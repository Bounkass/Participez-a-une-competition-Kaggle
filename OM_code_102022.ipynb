{
 "cells": [
  {
   "cell_type": "markdown",
   "metadata": {
    "id": "czw7-UGHTjhB"
   },
   "source": [
    "# <font color=\"blue\"><div align=\"center\"> Feedback Prize - English Language Learning\n",
    "#### <font color=\"black\"><div align=\"center\"> Evaluating language knowledge of ELL students from grades 8-12"
   ]
  },
  {
   "cell_type": "markdown",
   "metadata": {
    "id": "E8LgNSMWUiJi"
   },
   "source": [
    "##### <font color=\"#114b98\"> Contexte et objectif de la compétition \n",
    "    \n",
    "\n",
    "L'écriture est une compétence fondamentale dans l'apprentissage d'une seconde langue. Avec la croissance rapide de la population des étudiants apprenant l'anglais comme langue seconde, la tâche d'évaluation des compétences linguistiques est devenue de plus en plus fatigante pour les enseignants. Elle demande un grand effort de concentration afin d'évaluer correctement les différentes composantes mesurant le niveau linguistique d'un apprenant. \n",
    "\n",
    "      \n",
    "\n",
    "Les outils existants ne sont pas en mesure de fournir une rétroaction basée sur les compétences linguistiques de l'étudiant, ce qui entraîne une évaluation finale qui peut être biaisée au détriment de l'apprenant. La science des données peut être en mesure d'améliorer les outils de rétroaction automatisés pour mieux répondre aux besoins uniques de ces apprenants.\n",
    "\n",
    "L'objectif de cette compétition est de développer un modèle de machine learning permettant d'évaluer \n",
    "d'évaluer les compétences linguistiques des apprenants de la langue anglaise (ELLs) de la 8e au 12e niveau.\n",
    "Une évaluation correcte, précise et non biaisée peut soutenir les étudiants dans leur parcours d'apprentissage. \n",
    "\n"
   ]
  },
  {
   "cell_type": "markdown",
   "metadata": {},
   "source": [
    "Le Notebook et un rapport du projet seront versionnés dans un repositoire GitHub disponible à l'adresse: https://github.com/Bounkass/Projet_8PoC"
   ]
  },
  {
   "cell_type": "markdown",
   "metadata": {
    "id": "AT47f5QlYhze"
   },
   "source": [
    "## <font color=\"red\">Table of contents </font>  \n",
    "\n",
    "\n",
    "[1. Chargement et préparation du jeu de données](#section_1)\n",
    "\n",
    "[2. Analyse exploratoire des données](#section_2) \n",
    "\n",
    "[3. Modèles de prédiction](#section_3) \n",
    "\n",
    "[3.1. Tfidf et SVR regressor](#section_31) \n",
    "\n",
    "[3.2. Bert modèle pré-entrainé](#section_32) "
   ]
  },
  {
   "cell_type": "markdown",
   "metadata": {
    "id": "DV55oUb9RyEJ"
   },
   "source": [
    "### <font id=\"section_1\">1. Chargement et préparation du jeu de données"
   ]
  },
  {
   "cell_type": "code",
   "execution_count": null,
   "metadata": {
    "id": "zRDtJTUDIPci"
   },
   "outputs": [],
   "source": [
    "#installation des transformeurs"
   ]
  },
  {
   "cell_type": "code",
   "execution_count": 1,
   "metadata": {
    "colab": {
     "base_uri": "https://localhost:8080/"
    },
    "id": "ReZUL0YcGZff",
    "outputId": "fc82bfb1-83fb-4b3d-ba29-8a32aa4e4f34"
   },
   "outputs": [
    {
     "name": "stdout",
     "output_type": "stream",
     "text": [
      "Looking in indexes: https://pypi.org/simple, https://us-python.pkg.dev/colab-wheels/public/simple/\n",
      "Collecting transformers\n",
      "  Downloading transformers-4.23.1-py3-none-any.whl (5.3 MB)\n",
      "\u001b[K     |████████████████████████████████| 5.3 MB 18.9 MB/s \n",
      "\u001b[?25hRequirement already satisfied: packaging>=20.0 in /usr/local/lib/python3.7/dist-packages (from transformers) (21.3)\n",
      "Requirement already satisfied: numpy>=1.17 in /usr/local/lib/python3.7/dist-packages (from transformers) (1.21.6)\n",
      "Requirement already satisfied: pyyaml>=5.1 in /usr/local/lib/python3.7/dist-packages (from transformers) (6.0)\n",
      "Collecting huggingface-hub<1.0,>=0.10.0\n",
      "  Downloading huggingface_hub-0.10.1-py3-none-any.whl (163 kB)\n",
      "\u001b[K     |████████████████████████████████| 163 kB 49.8 MB/s \n",
      "\u001b[?25hRequirement already satisfied: importlib-metadata in /usr/local/lib/python3.7/dist-packages (from transformers) (4.13.0)\n",
      "Requirement already satisfied: regex!=2019.12.17 in /usr/local/lib/python3.7/dist-packages (from transformers) (2022.6.2)\n",
      "Collecting tokenizers!=0.11.3,<0.14,>=0.11.1\n",
      "  Downloading tokenizers-0.13.1-cp37-cp37m-manylinux_2_17_x86_64.manylinux2014_x86_64.whl (7.6 MB)\n",
      "\u001b[K     |████████████████████████████████| 7.6 MB 53.7 MB/s \n",
      "\u001b[?25hRequirement already satisfied: filelock in /usr/local/lib/python3.7/dist-packages (from transformers) (3.8.0)\n",
      "Requirement already satisfied: requests in /usr/local/lib/python3.7/dist-packages (from transformers) (2.23.0)\n",
      "Requirement already satisfied: tqdm>=4.27 in /usr/local/lib/python3.7/dist-packages (from transformers) (4.64.1)\n",
      "Requirement already satisfied: typing-extensions>=3.7.4.3 in /usr/local/lib/python3.7/dist-packages (from huggingface-hub<1.0,>=0.10.0->transformers) (4.1.1)\n",
      "Requirement already satisfied: pyparsing!=3.0.5,>=2.0.2 in /usr/local/lib/python3.7/dist-packages (from packaging>=20.0->transformers) (3.0.9)\n",
      "Requirement already satisfied: zipp>=0.5 in /usr/local/lib/python3.7/dist-packages (from importlib-metadata->transformers) (3.9.0)\n",
      "Requirement already satisfied: idna<3,>=2.5 in /usr/local/lib/python3.7/dist-packages (from requests->transformers) (2.10)\n",
      "Requirement already satisfied: urllib3!=1.25.0,!=1.25.1,<1.26,>=1.21.1 in /usr/local/lib/python3.7/dist-packages (from requests->transformers) (1.24.3)\n",
      "Requirement already satisfied: certifi>=2017.4.17 in /usr/local/lib/python3.7/dist-packages (from requests->transformers) (2022.9.24)\n",
      "Requirement already satisfied: chardet<4,>=3.0.2 in /usr/local/lib/python3.7/dist-packages (from requests->transformers) (3.0.4)\n",
      "Installing collected packages: tokenizers, huggingface-hub, transformers\n",
      "Successfully installed huggingface-hub-0.10.1 tokenizers-0.13.1 transformers-4.23.1\n"
     ]
    }
   ],
   "source": [
    "pip install transformers"
   ]
  },
  {
   "cell_type": "markdown",
   "metadata": {
    "id": "JocXZ0i-RzzV"
   },
   "source": [
    "Importation des librairies"
   ]
  },
  {
   "cell_type": "code",
   "execution_count": 2,
   "metadata": {
    "id": "fK0bXS1cdVOY"
   },
   "outputs": [],
   "source": [
    "import numpy as np\n",
    "import pandas as pd\n",
    "import seaborn as sns\n",
    "import matplotlib.pyplot as plt\n",
    "from sklearn.model_selection import train_test_split\n",
    "from sklearn.feature_extraction.text import TfidfVectorizer\n",
    "from sklearn.model_selection import GridSearchCV\n",
    "from sklearn.metrics import mean_squared_error as rmse\n",
    "from sklearn.svm import SVR\n",
    "import tensorflow as tf\n",
    "import transformers"
   ]
  },
  {
   "cell_type": "code",
   "execution_count": 3,
   "metadata": {
    "colab": {
     "base_uri": "https://localhost:8080/"
    },
    "id": "DRCxZoaOEqez",
    "outputId": "9eeacf15-8e49-4767-d028-0b8c424c5e09"
   },
   "outputs": [
    {
     "name": "stdout",
     "output_type": "stream",
     "text": [
      "Mounted at /content/drive\n"
     ]
    }
   ],
   "source": [
    "from google.colab import drive\n",
    "drive.mount('/content/drive', force_remount=True)"
   ]
  },
  {
   "cell_type": "code",
   "execution_count": 4,
   "metadata": {
    "colab": {
     "base_uri": "https://localhost:8080/"
    },
    "id": "EagwwdBI_K-L",
    "outputId": "f8815d52-ce17-4700-e3af-e5f9266b89ab"
   },
   "outputs": [
    {
     "name": "stdout",
     "output_type": "stream",
     "text": [
      "Done!\n"
     ]
    }
   ],
   "source": [
    "#path = \"C:/Users/moumouni/Desktop/projet6/Images\"\n",
    "from zipfile import ZipFile\n",
    "file_name = \"/content/drive/MyDrive/englearning.zip\"\n",
    "\n",
    "with ZipFile(file_name, 'r') as zip:\n",
    "    zip.extractall()\n",
    "    print('Done!')"
   ]
  },
  {
   "cell_type": "code",
   "execution_count": 5,
   "metadata": {
    "id": "8auu_3P4iQ0B"
   },
   "outputs": [],
   "source": [
    "data = pd.read_csv('/content/sample_submission.csv')\n",
    "df_train = pd.read_csv('/content/train.csv')\n",
    "df_test = pd.read_csv('/content/test.csv')"
   ]
  },
  {
   "cell_type": "code",
   "execution_count": 6,
   "metadata": {
    "colab": {
     "base_uri": "https://localhost:8080/",
     "height": 363
    },
    "id": "-3AefNz-BjQN",
    "outputId": "f174f609-333e-48a2-92dc-e7a4c8a451e5"
   },
   "outputs": [
    {
     "data": {
      "text/html": [
       "\n",
       "  <div id=\"df-cd35c336-4ed6-4201-bbee-0c5dfddf0075\">\n",
       "    <div class=\"colab-df-container\">\n",
       "      <div>\n",
       "<style scoped>\n",
       "    .dataframe tbody tr th:only-of-type {\n",
       "        vertical-align: middle;\n",
       "    }\n",
       "\n",
       "    .dataframe tbody tr th {\n",
       "        vertical-align: top;\n",
       "    }\n",
       "\n",
       "    .dataframe thead th {\n",
       "        text-align: right;\n",
       "    }\n",
       "</style>\n",
       "<table border=\"1\" class=\"dataframe\">\n",
       "  <thead>\n",
       "    <tr style=\"text-align: right;\">\n",
       "      <th></th>\n",
       "      <th>text_id</th>\n",
       "      <th>full_text</th>\n",
       "      <th>cohesion</th>\n",
       "      <th>syntax</th>\n",
       "      <th>vocabulary</th>\n",
       "      <th>phraseology</th>\n",
       "      <th>grammar</th>\n",
       "      <th>conventions</th>\n",
       "    </tr>\n",
       "  </thead>\n",
       "  <tbody>\n",
       "    <tr>\n",
       "      <th>0</th>\n",
       "      <td>0016926B079C</td>\n",
       "      <td>I think that students would benefit from learn...</td>\n",
       "      <td>3.5</td>\n",
       "      <td>3.5</td>\n",
       "      <td>3.0</td>\n",
       "      <td>3.0</td>\n",
       "      <td>4.0</td>\n",
       "      <td>3.0</td>\n",
       "    </tr>\n",
       "    <tr>\n",
       "      <th>1</th>\n",
       "      <td>0022683E9EA5</td>\n",
       "      <td>When a problem is a change you have to let it ...</td>\n",
       "      <td>2.5</td>\n",
       "      <td>2.5</td>\n",
       "      <td>3.0</td>\n",
       "      <td>2.0</td>\n",
       "      <td>2.0</td>\n",
       "      <td>2.5</td>\n",
       "    </tr>\n",
       "    <tr>\n",
       "      <th>2</th>\n",
       "      <td>00299B378633</td>\n",
       "      <td>Dear, Principal\\n\\nIf u change the school poli...</td>\n",
       "      <td>3.0</td>\n",
       "      <td>3.5</td>\n",
       "      <td>3.0</td>\n",
       "      <td>3.0</td>\n",
       "      <td>3.0</td>\n",
       "      <td>2.5</td>\n",
       "    </tr>\n",
       "    <tr>\n",
       "      <th>3</th>\n",
       "      <td>003885A45F42</td>\n",
       "      <td>The best time in life is when you become yours...</td>\n",
       "      <td>4.5</td>\n",
       "      <td>4.5</td>\n",
       "      <td>4.5</td>\n",
       "      <td>4.5</td>\n",
       "      <td>4.0</td>\n",
       "      <td>5.0</td>\n",
       "    </tr>\n",
       "    <tr>\n",
       "      <th>4</th>\n",
       "      <td>0049B1DF5CCC</td>\n",
       "      <td>Small act of kindness can impact in other peop...</td>\n",
       "      <td>2.5</td>\n",
       "      <td>3.0</td>\n",
       "      <td>3.0</td>\n",
       "      <td>3.0</td>\n",
       "      <td>2.5</td>\n",
       "      <td>2.5</td>\n",
       "    </tr>\n",
       "    <tr>\n",
       "      <th>5</th>\n",
       "      <td>004AC288D833</td>\n",
       "      <td>Dear Principal,\\r\\n\\r\\nOur school should have ...</td>\n",
       "      <td>3.5</td>\n",
       "      <td>4.0</td>\n",
       "      <td>4.0</td>\n",
       "      <td>3.5</td>\n",
       "      <td>3.5</td>\n",
       "      <td>4.0</td>\n",
       "    </tr>\n",
       "    <tr>\n",
       "      <th>6</th>\n",
       "      <td>005661280443</td>\n",
       "      <td>Imagine if you could prove other people that y...</td>\n",
       "      <td>3.5</td>\n",
       "      <td>4.0</td>\n",
       "      <td>3.5</td>\n",
       "      <td>3.5</td>\n",
       "      <td>4.0</td>\n",
       "      <td>4.0</td>\n",
       "    </tr>\n",
       "    <tr>\n",
       "      <th>7</th>\n",
       "      <td>008DDDDD8E8D</td>\n",
       "      <td>I think it's a good idea for the estudnets to ...</td>\n",
       "      <td>2.5</td>\n",
       "      <td>2.5</td>\n",
       "      <td>2.5</td>\n",
       "      <td>2.5</td>\n",
       "      <td>2.5</td>\n",
       "      <td>2.0</td>\n",
       "    </tr>\n",
       "    <tr>\n",
       "      <th>8</th>\n",
       "      <td>009BCCC61C2A</td>\n",
       "      <td>positive attitude is the key to success. I agr...</td>\n",
       "      <td>3.0</td>\n",
       "      <td>3.0</td>\n",
       "      <td>3.5</td>\n",
       "      <td>3.5</td>\n",
       "      <td>3.0</td>\n",
       "      <td>3.0</td>\n",
       "    </tr>\n",
       "    <tr>\n",
       "      <th>9</th>\n",
       "      <td>009F4E9310CB</td>\n",
       "      <td>Asking more than one person for and advice hel...</td>\n",
       "      <td>3.0</td>\n",
       "      <td>3.0</td>\n",
       "      <td>3.5</td>\n",
       "      <td>2.5</td>\n",
       "      <td>3.0</td>\n",
       "      <td>2.5</td>\n",
       "    </tr>\n",
       "  </tbody>\n",
       "</table>\n",
       "</div>\n",
       "      <button class=\"colab-df-convert\" onclick=\"convertToInteractive('df-cd35c336-4ed6-4201-bbee-0c5dfddf0075')\"\n",
       "              title=\"Convert this dataframe to an interactive table.\"\n",
       "              style=\"display:none;\">\n",
       "        \n",
       "  <svg xmlns=\"http://www.w3.org/2000/svg\" height=\"24px\"viewBox=\"0 0 24 24\"\n",
       "       width=\"24px\">\n",
       "    <path d=\"M0 0h24v24H0V0z\" fill=\"none\"/>\n",
       "    <path d=\"M18.56 5.44l.94 2.06.94-2.06 2.06-.94-2.06-.94-.94-2.06-.94 2.06-2.06.94zm-11 1L8.5 8.5l.94-2.06 2.06-.94-2.06-.94L8.5 2.5l-.94 2.06-2.06.94zm10 10l.94 2.06.94-2.06 2.06-.94-2.06-.94-.94-2.06-.94 2.06-2.06.94z\"/><path d=\"M17.41 7.96l-1.37-1.37c-.4-.4-.92-.59-1.43-.59-.52 0-1.04.2-1.43.59L10.3 9.45l-7.72 7.72c-.78.78-.78 2.05 0 2.83L4 21.41c.39.39.9.59 1.41.59.51 0 1.02-.2 1.41-.59l7.78-7.78 2.81-2.81c.8-.78.8-2.07 0-2.86zM5.41 20L4 18.59l7.72-7.72 1.47 1.35L5.41 20z\"/>\n",
       "  </svg>\n",
       "      </button>\n",
       "      \n",
       "  <style>\n",
       "    .colab-df-container {\n",
       "      display:flex;\n",
       "      flex-wrap:wrap;\n",
       "      gap: 12px;\n",
       "    }\n",
       "\n",
       "    .colab-df-convert {\n",
       "      background-color: #E8F0FE;\n",
       "      border: none;\n",
       "      border-radius: 50%;\n",
       "      cursor: pointer;\n",
       "      display: none;\n",
       "      fill: #1967D2;\n",
       "      height: 32px;\n",
       "      padding: 0 0 0 0;\n",
       "      width: 32px;\n",
       "    }\n",
       "\n",
       "    .colab-df-convert:hover {\n",
       "      background-color: #E2EBFA;\n",
       "      box-shadow: 0px 1px 2px rgba(60, 64, 67, 0.3), 0px 1px 3px 1px rgba(60, 64, 67, 0.15);\n",
       "      fill: #174EA6;\n",
       "    }\n",
       "\n",
       "    [theme=dark] .colab-df-convert {\n",
       "      background-color: #3B4455;\n",
       "      fill: #D2E3FC;\n",
       "    }\n",
       "\n",
       "    [theme=dark] .colab-df-convert:hover {\n",
       "      background-color: #434B5C;\n",
       "      box-shadow: 0px 1px 3px 1px rgba(0, 0, 0, 0.15);\n",
       "      filter: drop-shadow(0px 1px 2px rgba(0, 0, 0, 0.3));\n",
       "      fill: #FFFFFF;\n",
       "    }\n",
       "  </style>\n",
       "\n",
       "      <script>\n",
       "        const buttonEl =\n",
       "          document.querySelector('#df-cd35c336-4ed6-4201-bbee-0c5dfddf0075 button.colab-df-convert');\n",
       "        buttonEl.style.display =\n",
       "          google.colab.kernel.accessAllowed ? 'block' : 'none';\n",
       "\n",
       "        async function convertToInteractive(key) {\n",
       "          const element = document.querySelector('#df-cd35c336-4ed6-4201-bbee-0c5dfddf0075');\n",
       "          const dataTable =\n",
       "            await google.colab.kernel.invokeFunction('convertToInteractive',\n",
       "                                                     [key], {});\n",
       "          if (!dataTable) return;\n",
       "\n",
       "          const docLinkHtml = 'Like what you see? Visit the ' +\n",
       "            '<a target=\"_blank\" href=https://colab.research.google.com/notebooks/data_table.ipynb>data table notebook</a>'\n",
       "            + ' to learn more about interactive tables.';\n",
       "          element.innerHTML = '';\n",
       "          dataTable['output_type'] = 'display_data';\n",
       "          await google.colab.output.renderOutput(dataTable, element);\n",
       "          const docLink = document.createElement('div');\n",
       "          docLink.innerHTML = docLinkHtml;\n",
       "          element.appendChild(docLink);\n",
       "        }\n",
       "      </script>\n",
       "    </div>\n",
       "  </div>\n",
       "  "
      ],
      "text/plain": [
       "        text_id                                          full_text  cohesion  \\\n",
       "0  0016926B079C  I think that students would benefit from learn...       3.5   \n",
       "1  0022683E9EA5  When a problem is a change you have to let it ...       2.5   \n",
       "2  00299B378633  Dear, Principal\\n\\nIf u change the school poli...       3.0   \n",
       "3  003885A45F42  The best time in life is when you become yours...       4.5   \n",
       "4  0049B1DF5CCC  Small act of kindness can impact in other peop...       2.5   \n",
       "5  004AC288D833  Dear Principal,\\r\\n\\r\\nOur school should have ...       3.5   \n",
       "6  005661280443  Imagine if you could prove other people that y...       3.5   \n",
       "7  008DDDDD8E8D  I think it's a good idea for the estudnets to ...       2.5   \n",
       "8  009BCCC61C2A  positive attitude is the key to success. I agr...       3.0   \n",
       "9  009F4E9310CB  Asking more than one person for and advice hel...       3.0   \n",
       "\n",
       "   syntax  vocabulary  phraseology  grammar  conventions  \n",
       "0     3.5         3.0          3.0      4.0          3.0  \n",
       "1     2.5         3.0          2.0      2.0          2.5  \n",
       "2     3.5         3.0          3.0      3.0          2.5  \n",
       "3     4.5         4.5          4.5      4.0          5.0  \n",
       "4     3.0         3.0          3.0      2.5          2.5  \n",
       "5     4.0         4.0          3.5      3.5          4.0  \n",
       "6     4.0         3.5          3.5      4.0          4.0  \n",
       "7     2.5         2.5          2.5      2.5          2.0  \n",
       "8     3.0         3.5          3.5      3.0          3.0  \n",
       "9     3.0         3.5          2.5      3.0          2.5  "
      ]
     },
     "execution_count": 6,
     "metadata": {},
     "output_type": "execute_result"
    }
   ],
   "source": [
    "df_train.head(10)"
   ]
  },
  {
   "cell_type": "code",
   "execution_count": null,
   "metadata": {
    "colab": {
     "base_uri": "https://localhost:8080/"
    },
    "id": "jDRiSAqsX-4C",
    "outputId": "d2b0e09a-8dd7-4d39-cc4a-04d2fb46405d"
   },
   "outputs": [
    {
     "name": "stdout",
     "output_type": "stream",
     "text": [
      "<class 'pandas.core.frame.DataFrame'>\n",
      "RangeIndex: 3911 entries, 0 to 3910\n",
      "Data columns (total 8 columns):\n",
      " #   Column       Non-Null Count  Dtype  \n",
      "---  ------       --------------  -----  \n",
      " 0   text_id      3911 non-null   object \n",
      " 1   full_text    3911 non-null   object \n",
      " 2   cohesion     3911 non-null   float64\n",
      " 3   syntax       3911 non-null   float64\n",
      " 4   vocabulary   3911 non-null   float64\n",
      " 5   phraseology  3911 non-null   float64\n",
      " 6   grammar      3911 non-null   float64\n",
      " 7   conventions  3911 non-null   float64\n",
      "dtypes: float64(6), object(2)\n",
      "memory usage: 244.6+ KB\n"
     ]
    }
   ],
   "source": [
    "df_train.info()"
   ]
  },
  {
   "cell_type": "code",
   "execution_count": null,
   "metadata": {
    "colab": {
     "base_uri": "https://localhost:8080/"
    },
    "id": "F5sRmnBgbNyz",
    "outputId": "e5bac8b7-deec-4b74-f17b-88f372deb723"
   },
   "outputs": [
    {
     "data": {
      "text/plain": [
       "0"
      ]
     },
     "execution_count": 7,
     "metadata": {},
     "output_type": "execute_result"
    }
   ],
   "source": [
    "df_train.duplicated().sum()"
   ]
  },
  {
   "cell_type": "markdown",
   "metadata": {
    "id": "CaswNnKQR8Ub"
   },
   "source": [
    "L'ensemble de données contient 3911 des lignes, une colonne d'essai de texte d'expression écrite en anglais et six variables  évaluant les compétences linguistiques. Les données ne comptent pas de valeurs nulles et de doublon."
   ]
  },
  {
   "cell_type": "code",
   "execution_count": null,
   "metadata": {
    "colab": {
     "base_uri": "https://localhost:8080/"
    },
    "id": "FqCMby5DUmrV",
    "outputId": "23c9c570-167c-47c3-e8a7-0ae0e7704902"
   },
   "outputs": [
    {
     "data": {
      "text/plain": [
       "array([\"When a problem is a change you have to let it do the best on you no matter what is happening it can change your mind. sometimes you need to wake up and look what is around you because problems are the best way to change what you want to change along time ago. A\\n\\nproblem is a change for you because it can make you see different and help you to understand how tings wok.\\n\\nFirst of all it can make you see different then the others. For example i remember that when i came to the United States i think that nothing was going to change me because i think that nothing was going to change me because everything was different that my country and then i realist that wrong because a problem may change you but sometimes can not change the way it is, but i remember that i was really shy but i think that change a lot because sometimes my problems make me think that there is more thing that i never see in my life but i just need to see it from a different way and dont let nothing happened and ruing the change that i want to make because of just a problem. For example i think that nothing was going to change me and that i dont need to be shy anymore became i need to start seeing everything in a different ways because you can get mad at every one but you need to know what is going to happened after,\\n\\npeople may see you different but the only way that you know how to change is to do the best and don't let nothing or not body to change nothing about you. The way you want to change not one have that and can't do nothing about it because is your choice and your problems and you can decide what to do with it.\\n\\nsecond of all can help you to understand how things work. For instance my mom have a lot of problems but she have faith when she is around people, my mom is scare of high and i'm not scare of high i did not understand why my mos is scare of high and in not scare of high and every time i see my mom in a airplane it make me laugh because she is scare and is funny, but i see it from a different way and i like the high but also she have to understand that hoe things work in other people because it can no be the same as you. For example i think that my mom and me are different because we are and i have to understand that she does not like high and i need to understand that. to help someone to understand how things work you need to start to see how things work in that persons life.\\n\\nA problem is a change for you and can make you a different and help you to understand. Everyone has a different opinion and a different was to understand then others. everyone can see the different opinion and what other people think.\",\n",
       "       \"Dear, Principal\\n\\nIf u change the school policy of having a grade b average that unfair. Because many students have a C average. So that means that they cant go out for sports or other activities they want to do bad. That's like taking everything they have. What if kids want to become good at something, but now they cant because of that school policy. If they have a C average they should still be able to go out for sports or activities. A C average isn't that bad, its higher then a D average. If the school police was if you have a D average of lower they shouldn't do sports or activities. If they have a D average in school for not working hard, that's means that they in ain't going to try hard. If they have a C average and there trying hard they should be able to out for sports or activities. What if all the good people in sports have a C average in school, that means that they cant play and were going to lose every game we have. That's a good policy to get grade's up but don't take away something they care about. Everyone should be able to go out for sports if they want to. If the school policy happens, schools going to be boarding now, because now students cant go out for sports or other activities. The students that are doing good in school should feel good about themselves but we shouldn't take the other students away from the others ones. If we do this policy student will try to raised their grade but if they cant what happens they them. Should they just be out of it and think that schools boarding. If they do this its like taking away their video games. All I'm saying is that they have the right to go out for sports or activities.\",\n",
       "       'The best time in life is when you become yourself. I agree that the greatest accomplishment, is when you be yourself in a world that constantly trying to make you something else. Because you make your own choices, you become more happy, and you respect others.\\n\\nFirst, you make your own choices by being yourself. Becoming yourself means that you should be able to make your own choices and not be shy or afraid of what you\\'re doing. Because you\\'re defining yourself by doing those things that you want. Some people follow others, therefore, they don\\'t make their own choices. People are afraid to make their own choice because they don\\'t want to get rejected or be wrong. In this world, most of the teenagers act and follow the people who are strong and bullies. The reason they follow them and make the same choices they make, is because they\\'re afraid that they will get beaten up and be left out. Personally when I came to the United States I used to follow other, because I thought they were amazing. But one day, I knew I was walking in the wrong path and I left them. Making your own choices makes you happy because you get to do what you like and what you want to do. It\\'s hard to make your own choices, but one day you\\'re going to have to make your own choices. The more you mature the more it will become easier for you to not be afraid of what you\\'re doing and how other people are looking at it, because at the end of the day It\\'s your life and you do what you think is right.\\n\\nSecond, You become more happy by being yourself because you make your own choices, You take responsibilities and you do whatever makes you happy. Also, some people act like they\\'re happy while not being themselves, but matter of fact, they\\'re depressed from the inside. Being yourself makes you more happy because you feel like you achieved something big. Also, Some religious kids who become themselves love everyone. In the bible it says \"Those who know God should love others, because God is love.\"\\n\\nNot being yourself will get you depressed because you don\\'t do everything you want to do, but you do what others wanna do because you want to fit in. Some kids who come from a different country will do stuff they don\\'t want to do just to fit in, because they don\\'t want to be lonely. Some people are afraid they won\\'t be happy because they would lose a lot of friends for being themselves, but they have to know that those people should be there for them and support them for what he\\'s doing since it\\'s his friends.\\n\\nLastly, Respecting others will gain them to respect you. Some teenagers like to make fun of others, not listen to what they have to say, and they like to beat kids up. Also some kids don\\'t like to not listen to their parents, and that is also disrespectful. The bible says \" Honor your father and mother.\"\\n\\nIf you respect your parents and listen to them, then they would trust you and not ask you lots of questions. Respecting other should be really important, because you don\\'t want others to not respect you. Also, Some people are disrespectful because they were never respected. Important things to do to be respectful is, Listen to what the other person has to say, Stand up for them, Being friends with them Doing all of that will gain you respect and you would have good friends. Also, if you see someone bullying a kid don\\'t watch, and stand up for them, don\\'t be afraid to stand up for someone because you\\'re doing the right thing.\\n\\nSome may disagree with me and say that it\\'s not that big of a deal, and it doesn\\'t feel like a big accomplishment. But with all do respect, I agree that it\\'s a big accomplishment because nowadays it\\'s really hard to become yourself.\\n\\nIn conclusion, It\\'s hard to become yourself in this world, because others are holding that opportunity back from you and you\\'re afraid to fight it back. That\\'s why I agree that to be yourself in a world that is constantly trying to make you something else is the greatest accomplishment. '],\n",
       "      dtype=object)"
      ]
     },
     "execution_count": 8,
     "metadata": {},
     "output_type": "execute_result"
    }
   ],
   "source": [
    "df_train[\"full_text\"].values[1:4]"
   ]
  },
  {
   "cell_type": "markdown",
   "metadata": {
    "id": "nfwcOO08UtdZ"
   },
   "source": [
    "Nous allons supprimer le retour à la ligne \\n et les espaces supplémentaires"
   ]
  },
  {
   "cell_type": "code",
   "execution_count": null,
   "metadata": {
    "id": "BLsdfo5xUHdK"
   },
   "outputs": [],
   "source": [
    "import re\n",
    "def clean_text(text):\n",
    "    # Remove  single newline\n",
    "    text = re.sub(\"\\n\", \" \", text)\n",
    "    #encoding \n",
    "    text = text.encode(\"ascii\", \"ignore\").decode()\n",
    "    text = text.encode(\"utf-8\", \"ignore\").decode()\n",
    "    # Remove numbers\n",
    "    text = re.sub(r'\\w*\\d+\\w*', ' ', text)\n",
    "    # Remove extra spaces\n",
    "    text = re.sub('\\s+', \" \", text)\n",
    "    # Removing some backslash \\ & \"\n",
    "    text = re.sub(r'[\\+\"]', \"\", text)\n",
    "    return text\n",
    "\n",
    "# Applying the cleaning function \n",
    "df_train['full_text'] = df_train['full_text'].apply(lambda text: clean_text(text))\n",
    "df_test['full_text'] = df_test['full_text'].apply(lambda text: clean_text(text))\n"
   ]
  },
  {
   "cell_type": "code",
   "execution_count": null,
   "metadata": {
    "colab": {
     "base_uri": "https://localhost:8080/"
    },
    "id": "tJ-uv6r3bCgh",
    "outputId": "b0b4c009-86fe-489a-b491-11bd58cca0ca"
   },
   "outputs": [
    {
     "data": {
      "text/plain": [
       "array([\"When a problem is a change you have to let it do the best on you no matter what is happening it can change your mind. sometimes you need to wake up and look what is around you because problems are the best way to change what you want to change along time ago. A problem is a change for you because it can make you see different and help you to understand how tings wok. First of all it can make you see different then the others. For example i remember that when i came to the United States i think that nothing was going to change me because i think that nothing was going to change me because everything was different that my country and then i realist that wrong because a problem may change you but sometimes can not change the way it is, but i remember that i was really shy but i think that change a lot because sometimes my problems make me think that there is more thing that i never see in my life but i just need to see it from a different way and dont let nothing happened and ruing the change that i want to make because of just a problem. For example i think that nothing was going to change me and that i dont need to be shy anymore became i need to start seeing everything in a different ways because you can get mad at every one but you need to know what is going to happened after, people may see you different but the only way that you know how to change is to do the best and don't let nothing or not body to change nothing about you. The way you want to change not one have that and can't do nothing about it because is your choice and your problems and you can decide what to do with it. second of all can help you to understand how things work. For instance my mom have a lot of problems but she have faith when she is around people, my mom is scare of high and i'm not scare of high i did not understand why my mos is scare of high and in not scare of high and every time i see my mom in a airplane it make me laugh because she is scare and is funny, but i see it from a different way and i like the high but also she have to understand that hoe things work in other people because it can no be the same as you. For example i think that my mom and me are different because we are and i have to understand that she does not like high and i need to understand that. to help someone to understand how things work you need to start to see how things work in that persons life. A problem is a change for you and can make you a different and help you to understand. Everyone has a different opinion and a different was to understand then others. everyone can see the different opinion and what other people think.\",\n",
       "       \"Dear, Principal If u change the school policy of having a grade b average that unfair. Because many students have a C average. So that means that they cant go out for sports or other activities they want to do bad. That's like taking everything they have. What if kids want to become good at something, but now they cant because of that school policy. If they have a C average they should still be able to go out for sports or activities. A C average isn't that bad, its higher then a D average. If the school police was if you have a D average of lower they shouldn't do sports or activities. If they have a D average in school for not working hard, that's means that they in ain't going to try hard. If they have a C average and there trying hard they should be able to out for sports or activities. What if all the good people in sports have a C average in school, that means that they cant play and were going to lose every game we have. That's a good policy to get grade's up but don't take away something they care about. Everyone should be able to go out for sports if they want to. If the school policy happens, schools going to be boarding now, because now students cant go out for sports or other activities. The students that are doing good in school should feel good about themselves but we shouldn't take the other students away from the others ones. If we do this policy student will try to raised their grade but if they cant what happens they them. Should they just be out of it and think that schools boarding. If they do this its like taking away their video games. All I'm saying is that they have the right to go out for sports or activities.\",\n",
       "       \"The best time in life is when you become yourself. I agree that the greatest accomplishment, is when you be yourself in a world that constantly trying to make you something else. Because you make your own choices, you become more happy, and you respect others. First, you make your own choices by being yourself. Becoming yourself means that you should be able to make your own choices and not be shy or afraid of what you're doing. Because you're defining yourself by doing those things that you want. Some people follow others, therefore, they don't make their own choices. People are afraid to make their own choice because they don't want to get rejected or be wrong. In this world, most of the teenagers act and follow the people who are strong and bullies. The reason they follow them and make the same choices they make, is because they're afraid that they will get beaten up and be left out. Personally when I came to the United States I used to follow other, because I thought they were amazing. But one day, I knew I was walking in the wrong path and I left them. Making your own choices makes you happy because you get to do what you like and what you want to do. It's hard to make your own choices, but one day you're going to have to make your own choices. The more you mature the more it will become easier for you to not be afraid of what you're doing and how other people are looking at it, because at the end of the day It's your life and you do what you think is right. Second, You become more happy by being yourself because you make your own choices, You take responsibilities and you do whatever makes you happy. Also, some people act like they're happy while not being themselves, but matter of fact, they're depressed from the inside. Being yourself makes you more happy because you feel like you achieved something big. Also, Some religious kids who become themselves love everyone. In the bible it says Those who know God should love others, because God is love. Not being yourself will get you depressed because you don't do everything you want to do, but you do what others wanna do because you want to fit in. Some kids who come from a different country will do stuff they don't want to do just to fit in, because they don't want to be lonely. Some people are afraid they won't be happy because they would lose a lot of friends for being themselves, but they have to know that those people should be there for them and support them for what he's doing since it's his friends. Lastly, Respecting others will gain them to respect you. Some teenagers like to make fun of others, not listen to what they have to say, and they like to beat kids up. Also some kids don't like to not listen to their parents, and that is also disrespectful. The bible says  Honor your father and mother. If you respect your parents and listen to them, then they would trust you and not ask you lots of questions. Respecting other should be really important, because you don't want others to not respect you. Also, Some people are disrespectful because they were never respected. Important things to do to be respectful is, Listen to what the other person has to say, Stand up for them, Being friends with them Doing all of that will gain you respect and you would have good friends. Also, if you see someone bullying a kid don't watch, and stand up for them, don't be afraid to stand up for someone because you're doing the right thing. Some may disagree with me and say that it's not that big of a deal, and it doesn't feel like a big accomplishment. But with all do respect, I agree that it's a big accomplishment because nowadays it's really hard to become yourself. In conclusion, It's hard to become yourself in this world, because others are holding that opportunity back from you and you're afraid to fight it back. That's why I agree that to be yourself in a world that is constantly trying to make you something else is the greatest accomplishment. \"],\n",
       "      dtype=object)"
      ]
     },
     "execution_count": 10,
     "metadata": {},
     "output_type": "execute_result"
    }
   ],
   "source": [
    "df_train[\"full_text\"].values[1:4]\n"
   ]
  },
  {
   "cell_type": "markdown",
   "metadata": {
    "id": "OOFtI0-rZKXJ"
   },
   "source": [
    "### <font id=\"section_2\">2. Analyse exploratoire des données"
   ]
  },
  {
   "cell_type": "code",
   "execution_count": null,
   "metadata": {
    "colab": {
     "base_uri": "https://localhost:8080/",
     "height": 611
    },
    "id": "_efpgbSJgWeg",
    "outputId": "537e7c51-3550-4005-b18c-c7e89d5ed01e"
   },
   "outputs": [
    {
     "data": {
      "image/png": "[encoded data removed]",
      "text/plain": [
       "<Figure size 1584x720 with 6 Axes>"
      ]
     },
     "metadata": {},
     "output_type": "display_data"
    }
   ],
   "source": [
    "col_target = ['cohesion', 'syntax', 'vocabulary', 'phraseology', 'grammar', 'conventions']\n",
    "f, axes = plt.subplots(2,3)\n",
    "f.set_figheight(10)\n",
    "f.set_figwidth(22)\n",
    "f.patch.set_facecolor('yellow')\n",
    "for k in range(0,6):\n",
    "    ax = axes.flat[k]\n",
    "    ax.hist(df_train[col_target[k]], 50, density=True, facecolor='g', alpha=0.75)\n",
    "    ax.set_xlabel(col_target[k],fontsize=14)"
   ]
  },
  {
   "cell_type": "markdown",
   "metadata": {
    "id": "JyNJRcAvVF4B"
   },
   "source": [
    "On peut remarquer que les variables d'évaluation (scores) sont presque normalement distribuées. Regardons la matrice de corrélation:"
   ]
  },
  {
   "cell_type": "code",
   "execution_count": null,
   "metadata": {
    "colab": {
     "base_uri": "https://localhost:8080/",
     "height": 237
    },
    "id": "jR2R_DCVmAV4",
    "outputId": "bdabdf57-e21d-40b7-d2f0-fe781d95dc39"
   },
   "outputs": [
    {
     "data": {
      "text/html": [
       "<style type=\"text/css\">\n",
       "#T_00f76_row0_col0, #T_00f76_row1_col1, #T_00f76_row2_col2, #T_00f76_row3_col3, #T_00f76_row4_col4, #T_00f76_row5_col5 {\n",
       "  background-color: #b40426;\n",
       "  color: #f1f1f1;\n",
       "}\n",
       "#T_00f76_row0_col1, #T_00f76_row2_col4 {\n",
       "  background-color: #485fd1;\n",
       "  color: #f1f1f1;\n",
       "}\n",
       "#T_00f76_row0_col2 {\n",
       "  background-color: #445acc;\n",
       "  color: #f1f1f1;\n",
       "}\n",
       "#T_00f76_row0_col3 {\n",
       "  background-color: #4f69d9;\n",
       "  color: #f1f1f1;\n",
       "}\n",
       "#T_00f76_row0_col4, #T_00f76_row2_col1, #T_00f76_row2_col5, #T_00f76_row4_col0, #T_00f76_row4_col2, #T_00f76_row5_col3 {\n",
       "  background-color: #3b4cc0;\n",
       "  color: #f1f1f1;\n",
       "}\n",
       "#T_00f76_row0_col5, #T_00f76_row3_col5 {\n",
       "  background-color: #3c4ec2;\n",
       "  color: #f1f1f1;\n",
       "}\n",
       "#T_00f76_row1_col0, #T_00f76_row4_col3 {\n",
       "  background-color: #6c8ff1;\n",
       "  color: #f1f1f1;\n",
       "}\n",
       "#T_00f76_row1_col2, #T_00f76_row2_col0, #T_00f76_row5_col0 {\n",
       "  background-color: #516ddb;\n",
       "  color: #f1f1f1;\n",
       "}\n",
       "#T_00f76_row1_col3 {\n",
       "  background-color: #7396f5;\n",
       "  color: #f1f1f1;\n",
       "}\n",
       "#T_00f76_row1_col4 {\n",
       "  background-color: #7a9df8;\n",
       "  color: #f1f1f1;\n",
       "}\n",
       "#T_00f76_row1_col5 {\n",
       "  background-color: #5b7ae5;\n",
       "  color: #f1f1f1;\n",
       "}\n",
       "#T_00f76_row2_col3 {\n",
       "  background-color: #7da0f9;\n",
       "  color: #f1f1f1;\n",
       "}\n",
       "#T_00f76_row3_col0 {\n",
       "  background-color: #6788ee;\n",
       "  color: #f1f1f1;\n",
       "}\n",
       "#T_00f76_row3_col1 {\n",
       "  background-color: #6687ed;\n",
       "  color: #f1f1f1;\n",
       "}\n",
       "#T_00f76_row3_col2 {\n",
       "  background-color: #86a9fc;\n",
       "  color: #f1f1f1;\n",
       "}\n",
       "#T_00f76_row3_col4 {\n",
       "  background-color: #84a7fc;\n",
       "  color: #f1f1f1;\n",
       "}\n",
       "#T_00f76_row4_col1 {\n",
       "  background-color: #5673e0;\n",
       "  color: #f1f1f1;\n",
       "}\n",
       "#T_00f76_row4_col5 {\n",
       "  background-color: #4257c9;\n",
       "  color: #f1f1f1;\n",
       "}\n",
       "#T_00f76_row5_col1 {\n",
       "  background-color: #4c66d6;\n",
       "  color: #f1f1f1;\n",
       "}\n",
       "#T_00f76_row5_col2 {\n",
       "  background-color: #4358cb;\n",
       "  color: #f1f1f1;\n",
       "}\n",
       "#T_00f76_row5_col4 {\n",
       "  background-color: #5875e1;\n",
       "  color: #f1f1f1;\n",
       "}\n",
       "</style>\n",
       "<table id=\"T_00f76_\" class=\"dataframe\">\n",
       "  <thead>\n",
       "    <tr>\n",
       "      <th class=\"blank level0\" >&nbsp;</th>\n",
       "      <th class=\"col_heading level0 col0\" >cohesion</th>\n",
       "      <th class=\"col_heading level0 col1\" >syntax</th>\n",
       "      <th class=\"col_heading level0 col2\" >vocabulary</th>\n",
       "      <th class=\"col_heading level0 col3\" >phraseology</th>\n",
       "      <th class=\"col_heading level0 col4\" >grammar</th>\n",
       "      <th class=\"col_heading level0 col5\" >conventions</th>\n",
       "    </tr>\n",
       "  </thead>\n",
       "  <tbody>\n",
       "    <tr>\n",
       "      <th id=\"T_00f76_level0_row0\" class=\"row_heading level0 row0\" >cohesion</th>\n",
       "      <td id=\"T_00f76_row0_col0\" class=\"data row0 col0\" >1.000000</td>\n",
       "      <td id=\"T_00f76_row0_col1\" class=\"data row0 col1\" >0.695459</td>\n",
       "      <td id=\"T_00f76_row0_col2\" class=\"data row0 col2\" >0.666151</td>\n",
       "      <td id=\"T_00f76_row0_col3\" class=\"data row0 col3\" >0.690058</td>\n",
       "      <td id=\"T_00f76_row0_col4\" class=\"data row0 col4\" >0.638689</td>\n",
       "      <td id=\"T_00f76_row0_col5\" class=\"data row0 col5\" >0.666151</td>\n",
       "    </tr>\n",
       "    <tr>\n",
       "      <th id=\"T_00f76_level0_row1\" class=\"row_heading level0 row1\" >syntax</th>\n",
       "      <td id=\"T_00f76_row1_col0\" class=\"data row1 col0\" >0.695459</td>\n",
       "      <td id=\"T_00f76_row1_col1\" class=\"data row1 col1\" >1.000000</td>\n",
       "      <td id=\"T_00f76_row1_col2\" class=\"data row1 col2\" >0.680562</td>\n",
       "      <td id=\"T_00f76_row1_col3\" class=\"data row1 col3\" >0.725467</td>\n",
       "      <td id=\"T_00f76_row1_col4\" class=\"data row1 col4\" >0.709525</td>\n",
       "      <td id=\"T_00f76_row1_col5\" class=\"data row1 col5\" >0.700025</td>\n",
       "    </tr>\n",
       "    <tr>\n",
       "      <th id=\"T_00f76_level0_row2\" class=\"row_heading level0 row2\" >vocabulary</th>\n",
       "      <td id=\"T_00f76_row2_col0\" class=\"data row2 col0\" >0.666151</td>\n",
       "      <td id=\"T_00f76_row2_col1\" class=\"data row2 col1\" >0.680562</td>\n",
       "      <td id=\"T_00f76_row2_col2\" class=\"data row2 col2\" >1.000000</td>\n",
       "      <td id=\"T_00f76_row2_col3\" class=\"data row2 col3\" >0.735261</td>\n",
       "      <td id=\"T_00f76_row2_col4\" class=\"data row2 col4\" >0.654852</td>\n",
       "      <td id=\"T_00f76_row2_col5\" class=\"data row2 col5\" >0.664292</td>\n",
       "    </tr>\n",
       "    <tr>\n",
       "      <th id=\"T_00f76_level0_row3\" class=\"row_heading level0 row3\" >phraseology</th>\n",
       "      <td id=\"T_00f76_row3_col0\" class=\"data row3 col0\" >0.690058</td>\n",
       "      <td id=\"T_00f76_row3_col1\" class=\"data row3 col1\" >0.725467</td>\n",
       "      <td id=\"T_00f76_row3_col2\" class=\"data row3 col2\" >0.735261</td>\n",
       "      <td id=\"T_00f76_row3_col3\" class=\"data row3 col3\" >1.000000</td>\n",
       "      <td id=\"T_00f76_row3_col4\" class=\"data row3 col4\" >0.719746</td>\n",
       "      <td id=\"T_00f76_row3_col5\" class=\"data row3 col5\" >0.666842</td>\n",
       "    </tr>\n",
       "    <tr>\n",
       "      <th id=\"T_00f76_level0_row4\" class=\"row_heading level0 row4\" >grammar</th>\n",
       "      <td id=\"T_00f76_row4_col0\" class=\"data row4 col0\" >0.638689</td>\n",
       "      <td id=\"T_00f76_row4_col1\" class=\"data row4 col1\" >0.709525</td>\n",
       "      <td id=\"T_00f76_row4_col2\" class=\"data row4 col2\" >0.654852</td>\n",
       "      <td id=\"T_00f76_row4_col3\" class=\"data row4 col3\" >0.719746</td>\n",
       "      <td id=\"T_00f76_row4_col4\" class=\"data row4 col4\" >1.000000</td>\n",
       "      <td id=\"T_00f76_row4_col5\" class=\"data row4 col5\" >0.673301</td>\n",
       "    </tr>\n",
       "    <tr>\n",
       "      <th id=\"T_00f76_level0_row5\" class=\"row_heading level0 row5\" >conventions</th>\n",
       "      <td id=\"T_00f76_row5_col0\" class=\"data row5 col0\" >0.666151</td>\n",
       "      <td id=\"T_00f76_row5_col1\" class=\"data row5 col1\" >0.700025</td>\n",
       "      <td id=\"T_00f76_row5_col2\" class=\"data row5 col2\" >0.664292</td>\n",
       "      <td id=\"T_00f76_row5_col3\" class=\"data row5 col3\" >0.666842</td>\n",
       "      <td id=\"T_00f76_row5_col4\" class=\"data row5 col4\" >0.673301</td>\n",
       "      <td id=\"T_00f76_row5_col5\" class=\"data row5 col5\" >1.000000</td>\n",
       "    </tr>\n",
       "  </tbody>\n",
       "</table>\n"
      ],
      "text/plain": [
       "<pandas.io.formats.style.Styler at 0x7f423ddca850>"
      ]
     },
     "execution_count": 13,
     "metadata": {},
     "output_type": "execute_result"
    }
   ],
   "source": [
    "\n",
    "corr = df_train[col_target].corr()\n",
    "corr.style.background_gradient(cmap='coolwarm')"
   ]
  },
  {
   "cell_type": "markdown",
   "metadata": {
    "id": "ktgOuu2UVQWh"
   },
   "source": [
    "On peut constater que les variables d'évaluation sont positivement corrélées avec l'absence d'une corrélation importante."
   ]
  },
  {
   "cell_type": "code",
   "execution_count": null,
   "metadata": {
    "colab": {
     "base_uri": "https://localhost:8080/",
     "height": 460
    },
    "id": "uAVXcMial7Wy",
    "outputId": "2dce7c7a-2f6c-44ca-fe26-d1ef37731306"
   },
   "outputs": [
    {
     "data": {
      "image/png": "[encoded data removed]",
      "text/plain": [
       "<Figure size 1584x504 with 1 Axes>"
      ]
     },
     "metadata": {
      "needs_background": "light"
     },
     "output_type": "display_data"
    }
   ],
   "source": [
    "# Calculate number of sentences of each list in Body\n",
    "df_train['sentence_count']= df_train.full_text.apply(lambda text: len(text.split(\".\")))\n",
    "\n",
    "# Countplot of body lenght\n",
    "fig = plt.figure(figsize=(22, 7))\n",
    "ax = sns.countplot(x=df_train.sentence_count)\n",
    "start, end = ax.get_xlim()\n",
    "ax.xaxis.set_ticks(np.arange(0, int(end)))\n",
    "plot_mean = df_train.sentence_count.mean()\n",
    "plot_median = df_train.sentence_count.median()\n",
    "plt.axvline(plot_mean, color=\"r\", linestyle='--', label=\"Full_text sentences number mean : \"+str(plot_mean))\n",
    "plt.axvline(plot_median, color=\"b\", linestyle=':', label=\"Full_text sentences number median : \"+str(plot_median))\n",
    "ax.set_xlabel(\"Number of sentences in raw\")\n",
    "plt.title(\"Full_text sentences number after cleaning\",\n",
    "          fontsize=16)\n",
    "plt.legend()\n",
    "plt.show()"
   ]
  },
  {
   "cell_type": "markdown",
   "metadata": {
    "id": "ranso6RAY4H-"
   },
   "source": [
    "On constate que la  distribution du nombre des phrases par texte est légerment asymétrique avec une moyenne de 19 phrases par texte."
   ]
  },
  {
   "cell_type": "code",
   "execution_count": null,
   "metadata": {
    "colab": {
     "base_uri": "https://localhost:8080/",
     "height": 460
    },
    "id": "sYriR5U2oQ36",
    "outputId": "39d2d8be-f173-471e-b7c7-4a10fcb5d244"
   },
   "outputs": [
    {
     "data": {
      "image/png": "[encoded data removed]",
      "text/plain": [
       "<Figure size 1728x504 with 1 Axes>"
      ]
     },
     "metadata": {
      "needs_background": "light"
     },
     "output_type": "display_data"
    }
   ],
   "source": [
    "# Calculate lenght of each list in Body\n",
    "df_train['body_count'] = df_train.full_text.apply(lambda text: len(text.split(\" \")))\n",
    "\n",
    "# Countplot of body lenght\n",
    "fig = plt.figure(figsize=(24, 7))\n",
    "ax = sns.countplot(x=df_train.body_count)\n",
    "start, end = ax.get_xlim()\n",
    "ax.xaxis.set_ticks(np.arange(0, int(end), 20))\n",
    "plot_mean = df_train.body_count.mean()\n",
    "plot_median = df_train.body_count.median()\n",
    "plt.axvline(plot_mean, color=\"r\", lw=3, linestyle='--', label=\"Body tokens lenght mean : \"+str(plot_mean))\n",
    "plt.axvline(plot_median, color=\"b\", lw=3, linestyle=':', label=\"Body tokens lenght median : \"+str(plot_median))\n",
    "ax.set_xlabel(\"Lenght of body tokens/4\")\n",
    "plt.title(\"Body tokens lenght after cleaning\",\n",
    "          fontsize=16)\n",
    "plt.legend()\n",
    "plt.show()"
   ]
  },
  {
   "cell_type": "markdown",
   "metadata": {
    "id": "FI4c_7V7cyrM"
   },
   "source": [
    "On constate que la  distribution du nombre des mots par texte est  asymétrique avec une moyenne de 430 mots par texte"
   ]
  },
  {
   "cell_type": "markdown",
   "metadata": {
    "id": "d-KIJBTyt_f1"
   },
   "source": [
    "### <font id=\"section_3\">3. Modèles de prédiction"
   ]
  },
  {
   "cell_type": "markdown",
   "metadata": {
    "id": "MTGVjhV9_HEQ"
   },
   "source": [
    "Nous allons comparer deux modèles de prédiction, le modèle baseline est le SVM regressor avec Tfidf vectorisation. Nous essayons d'améliorer le score de prédiction avec le modèle Bert pré-entrainé avec des couches congelées."
   ]
  },
  {
   "cell_type": "markdown",
   "metadata": {
    "id": "MG0qN6cudCpR"
   },
   "source": [
    "Nous allons comparer deux modèles de prédiction, Le modèle baseline est le modèle SVM regressor avec des feature définie par une vectorisation classique du texte. Le deuxième est le modèle Bert finetuned.\n"
   ]
  },
  {
   "cell_type": "markdown",
   "metadata": {
    "id": "46Gmsemu0hTQ"
   },
   "source": [
    "Les résultats seront évalués à l'aide de la métrique MRMSE, erreur quadratique moyenne par colonne :\n",
    "\n",
    "$$\n",
    "\\frac1{N}\\sum_{j=1}^N\\sqrt{\\frac1n\\sum_{i=1}^n(y_{i,j}-\\hat{y}_{i,j})^2}\n",
    "$$\n",
    "\n",
    "\n",
    "où $N$ est le nombre de colonnes cibles de vérité terrain notées, $y_{:,j}$ et $\\hat y_{:,j}$ sont les valeurs réelles et prédites pour les jèmes colonnes, respectivement"
   ]
  },
  {
   "cell_type": "markdown",
   "metadata": {
    "id": "O-IUGlWF_ElO"
   },
   "source": [
    "#### <font id=\"section_31\">3.1. Tfidf et SVR regressor"
   ]
  },
  {
   "cell_type": "code",
   "execution_count": null,
   "metadata": {
    "colab": {
     "base_uri": "https://localhost:8080/"
    },
    "id": "KBXaJ2HheEYi",
    "outputId": "5e8781fc-11eb-4cd1-e989-a5d01ae162cc"
   },
   "outputs": [
    {
     "name": "stdout",
     "output_type": "stream",
     "text": [
      "shape of vectorized train data: (3128, 9380)\n",
      "shape of vectorized test data:  (783, 9380)\n"
     ]
    }
   ],
   "source": [
    "vectorizer = TfidfVectorizer(max_df=0.98, min_df=2, max_features=10000)\n",
    "X = vectorizer.fit_transform(np.concatenate((df_train.full_text.values,df_test['full_text'].values)))\n",
    "# split data\n",
    "X_train, X_test, y_train, y_test = train_test_split(X[0:len(df_train.full_text)], df_train.iloc[:,2:].values,\n",
    "                                                    test_size=0.20, random_state=42)\n",
    "print(\"shape of vectorized train data:\",X_train.shape)\n",
    "print(\"shape of vectorized test data: \", X_test.shape)\n",
    "data_test = X[len(df_train.full_text):]\n",
    "\n"
   ]
  },
  {
   "cell_type": "code",
   "execution_count": null,
   "metadata": {
    "colab": {
     "base_uri": "https://localhost:8080/"
    },
    "id": "unLEtuFNoOSh",
    "outputId": "4cf2c0d8-5862-4268-f0ad-e06490d9e510"
   },
   "outputs": [
    {
     "data": {
      "text/plain": [
       "(3, 9380)"
      ]
     },
     "execution_count": 41,
     "metadata": {},
     "output_type": "execute_result"
    }
   ],
   "source": [
    "data_test.shape"
   ]
  },
  {
   "cell_type": "markdown",
   "metadata": {
    "id": "INzMk4SRDDgM"
   },
   "source": [
    "Nous allons utiliser l'estimateur GridSearchCV sur une grille de paramètres afin de trouver ceux minimisant l'erreur du modèle SVR "
   ]
  },
  {
   "cell_type": "code",
   "execution_count": null,
   "metadata": {
    "colab": {
     "base_uri": "https://localhost:8080/"
    },
    "id": "7Dh9z7o1pn2D",
    "outputId": "14a0507b-6f6f-4e24-db09-b37d600eca6f"
   },
   "outputs": [
    {
     "name": "stdout",
     "output_type": "stream",
     "text": [
      "[CV] END ...........C=10, epsilon=0.1, gamma=0.1, kernel=rbf; total time=  11.8s\n",
      "[CV] END ...........C=10, epsilon=0.1, gamma=0.1, kernel=rbf; total time=  11.3s\n",
      "[CV] END ..........C=10, epsilon=0.1, gamma=0.01, kernel=rbf; total time=  11.0s\n",
      "[CV] END ..........C=10, epsilon=0.1, gamma=0.01, kernel=rbf; total time=  11.0s\n",
      "[CV] END ..........C=10, epsilon=0.1, gamma=0.01, kernel=rbf; total time=  10.8s\n",
      "[CV] END ..........C=10, epsilon=0.1, gamma=0.01, kernel=rbf; total time=  10.9s\n",
      "[CV] END ..........C=10, epsilon=0.1, gamma=0.01, kernel=rbf; total time=  10.7s\n",
      "[CV] END ............C=10, epsilon=0.01, gamma=1, kernel=rbf; total time=  12.4s\n",
      "[CV] END ............C=10, epsilon=0.01, gamma=1, kernel=rbf; total time=  12.4s\n",
      "[CV] END ............C=10, epsilon=0.01, gamma=1, kernel=rbf; total time=  12.4s\n",
      "[CV] END ............C=10, epsilon=0.01, gamma=1, kernel=rbf; total time=  12.5s\n",
      "[CV] END ............C=10, epsilon=0.01, gamma=1, kernel=rbf; total time=  12.3s\n",
      "[CV] END ..........C=10, epsilon=0.01, gamma=0.1, kernel=rbf; total time=  12.5s\n",
      "[CV] END ..........C=10, epsilon=0.01, gamma=0.1, kernel=rbf; total time=  12.5s\n",
      "[CV] END ..........C=10, epsilon=0.01, gamma=0.1, kernel=rbf; total time=  12.6s\n",
      "[CV] END ..........C=10, epsilon=0.01, gamma=0.1, kernel=rbf; total time=  12.5s\n",
      "[CV] END ..........C=10, epsilon=0.01, gamma=0.1, kernel=rbf; total time=  12.6s\n",
      "[CV] END .........C=10, epsilon=0.01, gamma=0.01, kernel=rbf; total time=  12.2s\n",
      "[CV] END .........C=10, epsilon=0.01, gamma=0.01, kernel=rbf; total time=  13.0s\n",
      "[CV] END .........C=10, epsilon=0.01, gamma=0.01, kernel=rbf; total time=  12.2s\n",
      "[CV] END .........C=10, epsilon=0.01, gamma=0.01, kernel=rbf; total time=  12.2s\n",
      "[CV] END .........C=10, epsilon=0.01, gamma=0.01, kernel=rbf; total time=  12.2s\n",
      "[CV] END ..............C=100, epsilon=1, gamma=1, kernel=rbf; total time=   1.4s\n",
      "[CV] END ..............C=100, epsilon=1, gamma=1, kernel=rbf; total time=   1.4s\n",
      "[CV] END ..............C=100, epsilon=1, gamma=1, kernel=rbf; total time=   1.5s\n",
      "[CV] END ..............C=100, epsilon=1, gamma=1, kernel=rbf; total time=   1.4s\n",
      "[CV] END ..............C=100, epsilon=1, gamma=1, kernel=rbf; total time=   1.5s\n",
      "[CV] END ............C=100, epsilon=1, gamma=0.1, kernel=rbf; total time=   1.2s\n",
      "[CV] END ............C=100, epsilon=1, gamma=0.1, kernel=rbf; total time=   1.2s\n",
      "[CV] END ............C=100, epsilon=1, gamma=0.1, kernel=rbf; total time=   1.3s\n",
      "[CV] END ............C=100, epsilon=1, gamma=0.1, kernel=rbf; total time=   1.2s\n",
      "[CV] END ............C=100, epsilon=1, gamma=0.1, kernel=rbf; total time=   1.2s\n",
      "[CV] END ...........C=100, epsilon=1, gamma=0.01, kernel=rbf; total time=   1.2s\n",
      "[CV] END ...........C=100, epsilon=1, gamma=0.01, kernel=rbf; total time=   1.2s\n",
      "[CV] END ...........C=100, epsilon=1, gamma=0.01, kernel=rbf; total time=   1.3s\n",
      "[CV] END ...........C=100, epsilon=1, gamma=0.01, kernel=rbf; total time=   1.2s\n",
      "[CV] END ...........C=100, epsilon=1, gamma=0.01, kernel=rbf; total time=   1.2s\n",
      "[CV] END ............C=100, epsilon=0.1, gamma=1, kernel=rbf; total time=  10.9s\n",
      "[CV] END ............C=100, epsilon=0.1, gamma=1, kernel=rbf; total time=  11.0s\n",
      "[CV] END ............C=100, epsilon=0.1, gamma=1, kernel=rbf; total time=  10.9s\n",
      "[CV] END ............C=100, epsilon=0.1, gamma=1, kernel=rbf; total time=  10.9s\n",
      "[CV] END ............C=100, epsilon=0.1, gamma=1, kernel=rbf; total time=  10.7s\n",
      "[CV] END ..........C=100, epsilon=0.1, gamma=0.1, kernel=rbf; total time=  11.7s\n",
      "[CV] END ..........C=100, epsilon=0.1, gamma=0.1, kernel=rbf; total time=  11.5s\n",
      "[CV] END ..........C=100, epsilon=0.1, gamma=0.1, kernel=rbf; total time=  11.8s\n",
      "[CV] END ..........C=100, epsilon=0.1, gamma=0.1, kernel=rbf; total time=  14.7s\n",
      "[CV] END ..........C=100, epsilon=0.1, gamma=0.1, kernel=rbf; total time=  11.6s\n",
      "[CV] END .........C=100, epsilon=0.1, gamma=0.01, kernel=rbf; total time=  11.1s\n",
      "[CV] END .........C=100, epsilon=0.1, gamma=0.01, kernel=rbf; total time=  11.1s\n",
      "[CV] END .........C=100, epsilon=0.1, gamma=0.01, kernel=rbf; total time=  11.0s\n",
      "[CV] END .........C=100, epsilon=0.1, gamma=0.01, kernel=rbf; total time=  12.2s\n",
      "[CV] END .........C=100, epsilon=0.1, gamma=0.01, kernel=rbf; total time=  11.2s\n",
      "[CV] END ...........C=100, epsilon=0.01, gamma=1, kernel=rbf; total time=  12.4s\n",
      "[CV] END ...........C=100, epsilon=0.01, gamma=1, kernel=rbf; total time=  13.4s\n",
      "[CV] END ...........C=100, epsilon=0.01, gamma=1, kernel=rbf; total time=  12.9s\n",
      "[CV] END ...........C=100, epsilon=0.01, gamma=1, kernel=rbf; total time=  12.5s\n",
      "[CV] END ...........C=100, epsilon=0.01, gamma=1, kernel=rbf; total time=  12.4s\n",
      "[CV] END .........C=100, epsilon=0.01, gamma=0.1, kernel=rbf; total time=  13.4s\n",
      "[CV] END .........C=100, epsilon=0.01, gamma=0.1, kernel=rbf; total time=  13.3s\n",
      "[CV] END .........C=100, epsilon=0.01, gamma=0.1, kernel=rbf; total time=  13.4s\n",
      "[CV] END .........C=100, epsilon=0.01, gamma=0.1, kernel=rbf; total time=  13.3s\n",
      "[CV] END .........C=100, epsilon=0.01, gamma=0.1, kernel=rbf; total time=  13.4s\n",
      "[CV] END ........C=100, epsilon=0.01, gamma=0.01, kernel=rbf; total time=  12.6s\n",
      "[CV] END ........C=100, epsilon=0.01, gamma=0.01, kernel=rbf; total time=  12.8s\n",
      "[CV] END ........C=100, epsilon=0.01, gamma=0.01, kernel=rbf; total time=  12.7s\n",
      "[CV] END ........C=100, epsilon=0.01, gamma=0.01, kernel=rbf; total time=  12.7s\n",
      "[CV] END ........C=100, epsilon=0.01, gamma=0.01, kernel=rbf; total time=  12.8s\n"
     ]
    },
    {
     "data": {
      "text/plain": [
       "GridSearchCV(estimator=SVR(),\n",
       "             param_grid={'C': [0.1, 1, 10, 100], 'epsilon': [1, 0.1, 0.01],\n",
       "                         'gamma': [1, 0.1, 0.01], 'kernel': ['rbf']},\n",
       "             verbose=2)"
      ]
     },
     "execution_count": 8,
     "metadata": {},
     "output_type": "execute_result"
    }
   ],
   "source": [
    "param_grid = {'C': [ 0.1, 1, 10, 100],  'gamma': [1,0.1, 0.01],\n",
    "          'kernel': ['rbf'], 'epsilon':[1,0.1,0.01]}\n",
    "svr_clf = SVR()\n",
    "grid = GridSearchCV(svr_clf,param_grid,refit=True,verbose=2)\n",
    "grid.fit(X_train,y_train[:,-1])"
   ]
  },
  {
   "cell_type": "code",
   "execution_count": null,
   "metadata": {
    "colab": {
     "base_uri": "https://localhost:8080/"
    },
    "id": "t4dZ899TgUJA",
    "outputId": "ccbc7c01-1351-44cc-e2a5-96b06a6dc05e"
   },
   "outputs": [
    {
     "data": {
      "text/plain": [
       "{'C': 10, 'epsilon': 0.1, 'gamma': 1, 'kernel': 'rbf'}"
      ]
     },
     "execution_count": 10,
     "metadata": {},
     "output_type": "execute_result"
    }
   ],
   "source": [
    "grid.best_params_"
   ]
  },
  {
   "cell_type": "code",
   "execution_count": null,
   "metadata": {
    "colab": {
     "base_uri": "https://localhost:8080/"
    },
    "id": "rfhZCEtzfEVQ",
    "outputId": "bb2e213d-980f-4934-9e3d-5cd02d4a5cd1"
   },
   "outputs": [
    {
     "name": "stdout",
     "output_type": "stream",
     "text": [
      "CPU times: user 2 µs, sys: 0 ns, total: 2 µs\n",
      "Wall time: 5.72 µs\n"
     ]
    },
    {
     "data": {
      "text/plain": [
       "0.5490805237617936"
      ]
     },
     "execution_count": 37,
     "metadata": {},
     "output_type": "execute_result"
    }
   ],
   "source": [
    "%time\n",
    "svr_clf = SVR(**grid.best_params_)\n",
    "error = []\n",
    "for k in range(0,y_train.shape[1]):\n",
    "  svr_clf.fit(X_train, y_train[:,k])\n",
    "  rf_preds = svr_clf.predict(X_test)\n",
    "  error.append(rmse(rf_preds,y_test[:,k],squared=False))\n",
    "np.mean(error)"
   ]
  },
  {
   "cell_type": "markdown",
   "metadata": {
    "id": "1X_kx_O_s_wC"
   },
   "source": [
    "##### Inférence sur le data test"
   ]
  },
  {
   "cell_type": "markdown",
   "metadata": {
    "id": "KfarGCftFI2Z"
   },
   "source": [
    "Nous allons prédire les six composantes d'évaluation pour les textes des données  df_test."
   ]
  },
  {
   "cell_type": "code",
   "execution_count": null,
   "metadata": {
    "colab": {
     "base_uri": "https://localhost:8080/",
     "height": 143
    },
    "id": "Beg9oLCitFaQ",
    "outputId": "2014868a-9284-4b28-bfc7-249653f7a86e"
   },
   "outputs": [
    {
     "data": {
      "text/html": [
       "\n",
       "  <div id=\"df-89b55e89-cce6-43c1-bfc4-7f3225c2899f\">\n",
       "    <div class=\"colab-df-container\">\n",
       "      <div>\n",
       "<style scoped>\n",
       "    .dataframe tbody tr th:only-of-type {\n",
       "        vertical-align: middle;\n",
       "    }\n",
       "\n",
       "    .dataframe tbody tr th {\n",
       "        vertical-align: top;\n",
       "    }\n",
       "\n",
       "    .dataframe thead th {\n",
       "        text-align: right;\n",
       "    }\n",
       "</style>\n",
       "<table border=\"1\" class=\"dataframe\">\n",
       "  <thead>\n",
       "    <tr style=\"text-align: right;\">\n",
       "      <th></th>\n",
       "      <th>text_id</th>\n",
       "      <th>full_text</th>\n",
       "    </tr>\n",
       "  </thead>\n",
       "  <tbody>\n",
       "    <tr>\n",
       "      <th>0</th>\n",
       "      <td>0000C359D63E</td>\n",
       "      <td>when a person has no experience on a job their...</td>\n",
       "    </tr>\n",
       "    <tr>\n",
       "      <th>1</th>\n",
       "      <td>000BAD50D026</td>\n",
       "      <td>Do you think students would benefit from being...</td>\n",
       "    </tr>\n",
       "    <tr>\n",
       "      <th>2</th>\n",
       "      <td>00367BB2546B</td>\n",
       "      <td>Thomas Jefferson once states that \"it is wonde...</td>\n",
       "    </tr>\n",
       "  </tbody>\n",
       "</table>\n",
       "</div>\n",
       "      <button class=\"colab-df-convert\" onclick=\"convertToInteractive('df-89b55e89-cce6-43c1-bfc4-7f3225c2899f')\"\n",
       "              title=\"Convert this dataframe to an interactive table.\"\n",
       "              style=\"display:none;\">\n",
       "        \n",
       "  <svg xmlns=\"http://www.w3.org/2000/svg\" height=\"24px\"viewBox=\"0 0 24 24\"\n",
       "       width=\"24px\">\n",
       "    <path d=\"M0 0h24v24H0V0z\" fill=\"none\"/>\n",
       "    <path d=\"M18.56 5.44l.94 2.06.94-2.06 2.06-.94-2.06-.94-.94-2.06-.94 2.06-2.06.94zm-11 1L8.5 8.5l.94-2.06 2.06-.94-2.06-.94L8.5 2.5l-.94 2.06-2.06.94zm10 10l.94 2.06.94-2.06 2.06-.94-2.06-.94-.94-2.06-.94 2.06-2.06.94z\"/><path d=\"M17.41 7.96l-1.37-1.37c-.4-.4-.92-.59-1.43-.59-.52 0-1.04.2-1.43.59L10.3 9.45l-7.72 7.72c-.78.78-.78 2.05 0 2.83L4 21.41c.39.39.9.59 1.41.59.51 0 1.02-.2 1.41-.59l7.78-7.78 2.81-2.81c.8-.78.8-2.07 0-2.86zM5.41 20L4 18.59l7.72-7.72 1.47 1.35L5.41 20z\"/>\n",
       "  </svg>\n",
       "      </button>\n",
       "      \n",
       "  <style>\n",
       "    .colab-df-container {\n",
       "      display:flex;\n",
       "      flex-wrap:wrap;\n",
       "      gap: 12px;\n",
       "    }\n",
       "\n",
       "    .colab-df-convert {\n",
       "      background-color: #E8F0FE;\n",
       "      border: none;\n",
       "      border-radius: 50%;\n",
       "      cursor: pointer;\n",
       "      display: none;\n",
       "      fill: #1967D2;\n",
       "      height: 32px;\n",
       "      padding: 0 0 0 0;\n",
       "      width: 32px;\n",
       "    }\n",
       "\n",
       "    .colab-df-convert:hover {\n",
       "      background-color: #E2EBFA;\n",
       "      box-shadow: 0px 1px 2px rgba(60, 64, 67, 0.3), 0px 1px 3px 1px rgba(60, 64, 67, 0.15);\n",
       "      fill: #174EA6;\n",
       "    }\n",
       "\n",
       "    [theme=dark] .colab-df-convert {\n",
       "      background-color: #3B4455;\n",
       "      fill: #D2E3FC;\n",
       "    }\n",
       "\n",
       "    [theme=dark] .colab-df-convert:hover {\n",
       "      background-color: #434B5C;\n",
       "      box-shadow: 0px 1px 3px 1px rgba(0, 0, 0, 0.15);\n",
       "      filter: drop-shadow(0px 1px 2px rgba(0, 0, 0, 0.3));\n",
       "      fill: #FFFFFF;\n",
       "    }\n",
       "  </style>\n",
       "\n",
       "      <script>\n",
       "        const buttonEl =\n",
       "          document.querySelector('#df-89b55e89-cce6-43c1-bfc4-7f3225c2899f button.colab-df-convert');\n",
       "        buttonEl.style.display =\n",
       "          google.colab.kernel.accessAllowed ? 'block' : 'none';\n",
       "\n",
       "        async function convertToInteractive(key) {\n",
       "          const element = document.querySelector('#df-89b55e89-cce6-43c1-bfc4-7f3225c2899f');\n",
       "          const dataTable =\n",
       "            await google.colab.kernel.invokeFunction('convertToInteractive',\n",
       "                                                     [key], {});\n",
       "          if (!dataTable) return;\n",
       "\n",
       "          const docLinkHtml = 'Like what you see? Visit the ' +\n",
       "            '<a target=\"_blank\" href=https://colab.research.google.com/notebooks/data_table.ipynb>data table notebook</a>'\n",
       "            + ' to learn more about interactive tables.';\n",
       "          element.innerHTML = '';\n",
       "          dataTable['output_type'] = 'display_data';\n",
       "          await google.colab.output.renderOutput(dataTable, element);\n",
       "          const docLink = document.createElement('div');\n",
       "          docLink.innerHTML = docLinkHtml;\n",
       "          element.appendChild(docLink);\n",
       "        }\n",
       "      </script>\n",
       "    </div>\n",
       "  </div>\n",
       "  "
      ],
      "text/plain": [
       "        text_id                                          full_text\n",
       "0  0000C359D63E  when a person has no experience on a job their...\n",
       "1  000BAD50D026  Do you think students would benefit from being...\n",
       "2  00367BB2546B  Thomas Jefferson once states that \"it is wonde..."
      ]
     },
     "execution_count": 12,
     "metadata": {},
     "output_type": "execute_result"
    }
   ],
   "source": [
    "df_test"
   ]
  },
  {
   "cell_type": "code",
   "execution_count": null,
   "metadata": {
    "id": "2sxNc2hKzSG3"
   },
   "outputs": [],
   "source": [
    "dt_soum = pd.DataFrame([],index=df_test.text_id, columns= col_target)"
   ]
  },
  {
   "cell_type": "code",
   "execution_count": null,
   "metadata": {
    "id": "qzeZBMGHzIJ3"
   },
   "outputs": [],
   "source": [
    "svr_clf = SVR(**grid.best_params_)\n",
    "for k in range(0,y_train.shape[1]):\n",
    "  svr_clf.fit(X_train, y_train[:,k])\n",
    "  dt_soum[col_target[k]] = svr_clf.predict(data_test)"
   ]
  },
  {
   "cell_type": "code",
   "execution_count": null,
   "metadata": {
    "colab": {
     "base_uri": "https://localhost:8080/",
     "height": 175
    },
    "id": "0m5OjZCLo1tz",
    "outputId": "27d75dfe-b0b7-4ab5-b6f5-692a0533e000"
   },
   "outputs": [
    {
     "data": {
      "text/html": [
       "\n",
       "  <div id=\"df-acde62f6-9d3c-4aac-846a-b95600356a1e\">\n",
       "    <div class=\"colab-df-container\">\n",
       "      <div>\n",
       "<style scoped>\n",
       "    .dataframe tbody tr th:only-of-type {\n",
       "        vertical-align: middle;\n",
       "    }\n",
       "\n",
       "    .dataframe tbody tr th {\n",
       "        vertical-align: top;\n",
       "    }\n",
       "\n",
       "    .dataframe thead th {\n",
       "        text-align: right;\n",
       "    }\n",
       "</style>\n",
       "<table border=\"1\" class=\"dataframe\">\n",
       "  <thead>\n",
       "    <tr style=\"text-align: right;\">\n",
       "      <th></th>\n",
       "      <th>cohesion</th>\n",
       "      <th>syntax</th>\n",
       "      <th>vocabulary</th>\n",
       "      <th>phraseology</th>\n",
       "      <th>grammar</th>\n",
       "      <th>conventions</th>\n",
       "    </tr>\n",
       "    <tr>\n",
       "      <th>text_id</th>\n",
       "      <th></th>\n",
       "      <th></th>\n",
       "      <th></th>\n",
       "      <th></th>\n",
       "      <th></th>\n",
       "      <th></th>\n",
       "    </tr>\n",
       "  </thead>\n",
       "  <tbody>\n",
       "    <tr>\n",
       "      <th>0000C359D63E</th>\n",
       "      <td>2.866870</td>\n",
       "      <td>2.618208</td>\n",
       "      <td>2.991919</td>\n",
       "      <td>2.998066</td>\n",
       "      <td>2.531559</td>\n",
       "      <td>2.749256</td>\n",
       "    </tr>\n",
       "    <tr>\n",
       "      <th>000BAD50D026</th>\n",
       "      <td>2.936079</td>\n",
       "      <td>2.810271</td>\n",
       "      <td>2.859445</td>\n",
       "      <td>2.682595</td>\n",
       "      <td>2.800824</td>\n",
       "      <td>3.130826</td>\n",
       "    </tr>\n",
       "    <tr>\n",
       "      <th>00367BB2546B</th>\n",
       "      <td>3.555411</td>\n",
       "      <td>3.468012</td>\n",
       "      <td>3.620318</td>\n",
       "      <td>3.499729</td>\n",
       "      <td>3.429987</td>\n",
       "      <td>3.382408</td>\n",
       "    </tr>\n",
       "  </tbody>\n",
       "</table>\n",
       "</div>\n",
       "      <button class=\"colab-df-convert\" onclick=\"convertToInteractive('df-acde62f6-9d3c-4aac-846a-b95600356a1e')\"\n",
       "              title=\"Convert this dataframe to an interactive table.\"\n",
       "              style=\"display:none;\">\n",
       "        \n",
       "  <svg xmlns=\"http://www.w3.org/2000/svg\" height=\"24px\"viewBox=\"0 0 24 24\"\n",
       "       width=\"24px\">\n",
       "    <path d=\"M0 0h24v24H0V0z\" fill=\"none\"/>\n",
       "    <path d=\"M18.56 5.44l.94 2.06.94-2.06 2.06-.94-2.06-.94-.94-2.06-.94 2.06-2.06.94zm-11 1L8.5 8.5l.94-2.06 2.06-.94-2.06-.94L8.5 2.5l-.94 2.06-2.06.94zm10 10l.94 2.06.94-2.06 2.06-.94-2.06-.94-.94-2.06-.94 2.06-2.06.94z\"/><path d=\"M17.41 7.96l-1.37-1.37c-.4-.4-.92-.59-1.43-.59-.52 0-1.04.2-1.43.59L10.3 9.45l-7.72 7.72c-.78.78-.78 2.05 0 2.83L4 21.41c.39.39.9.59 1.41.59.51 0 1.02-.2 1.41-.59l7.78-7.78 2.81-2.81c.8-.78.8-2.07 0-2.86zM5.41 20L4 18.59l7.72-7.72 1.47 1.35L5.41 20z\"/>\n",
       "  </svg>\n",
       "      </button>\n",
       "      \n",
       "  <style>\n",
       "    .colab-df-container {\n",
       "      display:flex;\n",
       "      flex-wrap:wrap;\n",
       "      gap: 12px;\n",
       "    }\n",
       "\n",
       "    .colab-df-convert {\n",
       "      background-color: #E8F0FE;\n",
       "      border: none;\n",
       "      border-radius: 50%;\n",
       "      cursor: pointer;\n",
       "      display: none;\n",
       "      fill: #1967D2;\n",
       "      height: 32px;\n",
       "      padding: 0 0 0 0;\n",
       "      width: 32px;\n",
       "    }\n",
       "\n",
       "    .colab-df-convert:hover {\n",
       "      background-color: #E2EBFA;\n",
       "      box-shadow: 0px 1px 2px rgba(60, 64, 67, 0.3), 0px 1px 3px 1px rgba(60, 64, 67, 0.15);\n",
       "      fill: #174EA6;\n",
       "    }\n",
       "\n",
       "    [theme=dark] .colab-df-convert {\n",
       "      background-color: #3B4455;\n",
       "      fill: #D2E3FC;\n",
       "    }\n",
       "\n",
       "    [theme=dark] .colab-df-convert:hover {\n",
       "      background-color: #434B5C;\n",
       "      box-shadow: 0px 1px 3px 1px rgba(0, 0, 0, 0.15);\n",
       "      filter: drop-shadow(0px 1px 2px rgba(0, 0, 0, 0.3));\n",
       "      fill: #FFFFFF;\n",
       "    }\n",
       "  </style>\n",
       "\n",
       "      <script>\n",
       "        const buttonEl =\n",
       "          document.querySelector('#df-acde62f6-9d3c-4aac-846a-b95600356a1e button.colab-df-convert');\n",
       "        buttonEl.style.display =\n",
       "          google.colab.kernel.accessAllowed ? 'block' : 'none';\n",
       "\n",
       "        async function convertToInteractive(key) {\n",
       "          const element = document.querySelector('#df-acde62f6-9d3c-4aac-846a-b95600356a1e');\n",
       "          const dataTable =\n",
       "            await google.colab.kernel.invokeFunction('convertToInteractive',\n",
       "                                                     [key], {});\n",
       "          if (!dataTable) return;\n",
       "\n",
       "          const docLinkHtml = 'Like what you see? Visit the ' +\n",
       "            '<a target=\"_blank\" href=https://colab.research.google.com/notebooks/data_table.ipynb>data table notebook</a>'\n",
       "            + ' to learn more about interactive tables.';\n",
       "          element.innerHTML = '';\n",
       "          dataTable['output_type'] = 'display_data';\n",
       "          await google.colab.output.renderOutput(dataTable, element);\n",
       "          const docLink = document.createElement('div');\n",
       "          docLink.innerHTML = docLinkHtml;\n",
       "          element.appendChild(docLink);\n",
       "        }\n",
       "      </script>\n",
       "    </div>\n",
       "  </div>\n",
       "  "
      ],
      "text/plain": [
       "              cohesion    syntax  vocabulary  phraseology   grammar  \\\n",
       "text_id                                                               \n",
       "0000C359D63E  2.866870  2.618208    2.991919     2.998066  2.531559   \n",
       "000BAD50D026  2.936079  2.810271    2.859445     2.682595  2.800824   \n",
       "00367BB2546B  3.555411  3.468012    3.620318     3.499729  3.429987   \n",
       "\n",
       "              conventions  \n",
       "text_id                    \n",
       "0000C359D63E     2.749256  \n",
       "000BAD50D026     3.130826  \n",
       "00367BB2546B     3.382408  "
      ]
     },
     "execution_count": 44,
     "metadata": {},
     "output_type": "execute_result"
    }
   ],
   "source": [
    "dt_soum"
   ]
  },
  {
   "cell_type": "markdown",
   "metadata": {
    "id": "5ppYGy6uEyaO"
   },
   "source": [
    "#### <font id=\"section_32\">3.2. Bert modèle pré-entrainé"
   ]
  },
  {
   "cell_type": "code",
   "execution_count": 7,
   "metadata": {
    "id": "8LGG-E5_GqFm"
   },
   "outputs": [],
   "source": [
    "max_length = 128*4  # Maximum length of input sentence to the model.\n",
    "batch_size = 16"
   ]
  },
  {
   "cell_type": "markdown",
   "metadata": {
    "id": "BqeqQlQ7PjvK"
   },
   "source": [
    "Nous allons créer un générateur de données de Keras"
   ]
  },
  {
   "cell_type": "code",
   "execution_count": 8,
   "metadata": {
    "id": "lLiumrqKG02A"
   },
   "outputs": [],
   "source": [
    "#https://keras.io/examples/nlp/semantic_similarity_with_bert/\n",
    "class BertSemanticDataGenerator(tf.keras.utils.Sequence):\n",
    "    \"\"\"Generates batches of data.\n",
    "\n",
    "    Args:\n",
    "        sentence_pairs: Array of premise and hypothesis input sentences.\n",
    "        labels: Array of labels.\n",
    "        batch_size: Integer batch size.\n",
    "        shuffle: boolean, whether to shuffle the data.\n",
    "\n",
    "    Returns:\n",
    "        Tuples `([input_ids, attention_mask, `token_type_ids], labels)`\n",
    "  \n",
    "    \"\"\"\n",
    "\n",
    "    def __init__(\n",
    "        self,\n",
    "        sentence_pairs,\n",
    "        targets,\n",
    "        batch_size=batch_size,\n",
    "        shuffle=True,\n",
    "\n",
    "    ):\n",
    "        self.sentence_pairs = sentence_pairs\n",
    "        self.targets = targets\n",
    "        self.shuffle = shuffle\n",
    "        self.batch_size = batch_size\n",
    "        # Load our BERT Tokenizer to encode the text.\n",
    "        # We will use base-base-uncased pretrained model.\n",
    "        self.tokenizer = transformers.BertTokenizer.from_pretrained(\n",
    "            \"bert-base-uncased\")\n",
    "        self.indexes = np.arange(len(self.sentence_pairs))\n",
    "        self.on_epoch_end()\n",
    "\n",
    "    def __len__(self):\n",
    "        # Denotes the number of batches per epoch.\n",
    "        return len(self.sentence_pairs) // self.batch_size\n",
    "\n",
    "    def __getitem__(self, idx):\n",
    "        # Retrieves the batch of index.\n",
    "        indexes = self.indexes[idx * self.batch_size : (idx + 1) * self.batch_size]\n",
    "        sentence_pairs = self.sentence_pairs[indexes]\n",
    "\n",
    "        # With BERT tokenizer's batch_encode_plus batch of both the sentences are\n",
    "        # encoded together and separated by [SEP] token.\n",
    "        encoded = self.tokenizer.batch_encode_plus(\n",
    "            sentence_pairs.tolist(),\n",
    "            add_special_tokens=True,\n",
    "            max_length=max_length,\n",
    "            return_attention_mask=True,\n",
    "            return_token_type_ids=True,\n",
    "            pad_to_max_length=True,\n",
    "            return_tensors=\"tf\",\n",
    "        )\n",
    "\n",
    "        # Convert batch of encoded features to numpy array.\n",
    "        input_ids = np.array(encoded[\"input_ids\"], dtype=\"int32\")\n",
    "        attention_masks = np.array(encoded[\"attention_mask\"], dtype=\"int32\")\n",
    "        token_type_ids = np.array(encoded[\"token_type_ids\"], dtype=\"int32\")\n",
    "\n",
    "        # Set to true if data generator is used for training/validation.\n",
    "\n",
    "        targets = np.array(self.targets[indexes])\n",
    "        return [input_ids, attention_masks, token_type_ids], targets\n",
    "\n",
    "    def on_epoch_end(self):\n",
    "        # Shuffle indexes after each epoch if shuffle is set to True.\n",
    "        if self.shuffle:\n",
    "            np.random.RandomState(42).shuffle(self.indexes)\n"
   ]
  },
  {
   "cell_type": "markdown",
   "metadata": {
    "id": "JHRU9T3EQJEf"
   },
   "source": [
    "Nous allons créer des générateurs de données d'entraînement et de validation.\n",
    "Nous normalisons les variables de compétences par une division par 5, afin d'utilser une fonction d'activation de sigmoid pour la couche dense."
   ]
  },
  {
   "cell_type": "code",
   "execution_count": 24,
   "metadata": {
    "id": "nqhtgmJGHiwA"
   },
   "outputs": [],
   "source": [
    "#split data\n",
    "col_target = ['cohesion', 'syntax', 'vocabulary', 'phraseology', 'grammar', 'conventions']\n",
    "X_train, X_test, y_train, y_test = train_test_split(df_train.full_text.values, df_train[col_target].values/5,\n",
    "                                                    test_size=0.20, random_state=42)\n",
    "#\n",
    "train_data = BertSemanticDataGenerator(\n",
    "    X_train.astype(\"str\"),\n",
    "    y_train,\n",
    "    batch_size=batch_size,\n",
    "    shuffle=True,\n",
    ")\n",
    "valid_data = BertSemanticDataGenerator(\n",
    "    X_test.astype(\"str\"),\n",
    "    y_test,\n",
    "    batch_size=batch_size,\n",
    "    shuffle=False,\n",
    ")"
   ]
  },
  {
   "cell_type": "code",
   "execution_count": 25,
   "metadata": {
    "colab": {
     "base_uri": "https://localhost:8080/"
    },
    "id": "d16nf0MkHmlg",
    "outputId": "27505972-bcc2-4473-f8ce-06a6ec7bb26e"
   },
   "outputs": [
    {
     "name": "stderr",
     "output_type": "stream",
     "text": [
      "Truncation was not explicitly activated but `max_length` is provided a specific value, please use `truncation=True` to explicitly truncate examples to max length. Defaulting to 'longest_first' truncation strategy. If you encode pairs of sequences (GLUE-style) with the tokenizer you can select this strategy more precisely by providing a specific strategy to `truncation`.\n"
     ]
    },
    {
     "name": "stdout",
     "output_type": "stream",
     "text": [
      "input_ids:\n",
      "[[  101  1996 12731 ...  4480  1999   102]\n",
      " [  101  5674  2619 ...  1997  2054   102]\n",
      " [  101  2027  2360 ...     0     0     0]\n",
      " ...\n",
      " [  101  2026  5848 ...  3450  2017   102]\n",
      " [  101  2087  2111 ...  2079  2092   102]\n",
      " [  101  6203  1010 ...     0     0     0]] \n",
      " With shape (16, 512) and dtype int32\n",
      "\n",
      "attention_mask:\n",
      "[[1 1 1 ... 1 1 1]\n",
      " [1 1 1 ... 1 1 1]\n",
      " [1 1 1 ... 0 0 0]\n",
      " ...\n",
      " [1 1 1 ... 1 1 1]\n",
      " [1 1 1 ... 1 1 1]\n",
      " [1 1 1 ... 0 0 0]] \n",
      " With shape (16, 512) and dtype int32\n",
      "\n",
      "token_type_ids:\n",
      "[[0 0 0 ... 0 0 0]\n",
      " [0 0 0 ... 0 0 0]\n",
      " [0 0 0 ... 0 0 0]\n",
      " ...\n",
      " [0 0 0 ... 0 0 0]\n",
      " [0 0 0 ... 0 0 0]\n",
      " [0 0 0 ... 0 0 0]] \n",
      " With shape (16, 512) and dtype int32\n",
      "\n",
      "Targets:\n",
      "[[0.8 0.9 0.9 0.9 0.9 0.9]\n",
      " [0.7 0.6 0.7 0.6 0.5 0.7]\n",
      " [0.6 0.5 0.5 0.5 0.7 0.5]\n",
      " [0.6 0.6 0.6 0.6 0.4 0.7]\n",
      " [0.7 0.8 0.7 0.7 0.8 0.7]\n",
      " [0.8 0.8 0.8 0.7 0.6 0.7]\n",
      " [0.6 0.5 0.6 0.7 0.5 0.6]\n",
      " [0.5 0.4 0.6 0.4 0.5 0.5]\n",
      " [0.8 0.8 0.8 0.8 0.9 0.9]\n",
      " [0.8 0.7 0.8 0.7 0.7 0.8]\n",
      " [0.6 0.7 0.6 0.6 1.  0.7]\n",
      " [0.9 0.8 0.8 0.8 0.8 0.7]\n",
      " [0.4 0.6 0.6 0.4 0.4 0.6]\n",
      " [0.8 0.9 0.8 0.9 0.9 0.9]\n",
      " [0.8 0.8 0.8 0.8 0.5 0.7]\n",
      " [0.7 0.6 0.5 0.6 0.7 0.6]] \n",
      " With shape (16, 6) and dtype float64\n"
     ]
    }
   ],
   "source": [
    "inputs, targets = next(iter(train_data))\n",
    "print(f'input_ids:\\n{inputs[0]} \\n With shape {inputs[0].shape} and dtype {inputs[0].dtype}\\n')\n",
    "print(f'attention_mask:\\n{inputs[1]} \\n With shape {inputs[1].shape} and dtype {inputs[0].dtype}\\n')\n",
    "print(f'token_type_ids:\\n{inputs[2]} \\n With shape {inputs[2].shape} and dtype {inputs[0].dtype}\\n')\n",
    "print(f'Targets:\\n{targets} \\n With shape {targets.shape} and dtype {targets.dtype}')"
   ]
  },
  {
   "cell_type": "markdown",
   "metadata": {
    "id": "CerbRT3FX6wK"
   },
   "source": [
    "Nous allons construire le modèle basé sur le modèle Bert pré-entrainé avec des couches congelées afin de réutiliser les features pré-entraînées sans les modifier. Ensuite, nous ajoutons  des couches entraînables au-dessus des couches congelées pour adapter les features pré-entraînées aux nouvelles données "
   ]
  },
  {
   "cell_type": "code",
   "execution_count": 26,
   "metadata": {
    "colab": {
     "base_uri": "https://localhost:8080/"
    },
    "id": "ZNIF-zUdHrwX",
    "outputId": "3f9774fb-234f-4277-d0a4-edb62d84316e"
   },
   "outputs": [
    {
     "name": "stderr",
     "output_type": "stream",
     "text": [
      "Some layers from the model checkpoint at bert-base-uncased were not used when initializing TFBertModel: ['mlm___cls', 'nsp___cls']\n",
      "- This IS expected if you are initializing TFBertModel from the checkpoint of a model trained on another task or with another architecture (e.g. initializing a BertForSequenceClassification model from a BertForPreTraining model).\n",
      "- This IS NOT expected if you are initializing TFBertModel from the checkpoint of a model that you expect to be exactly identical (initializing a BertForSequenceClassification model from a BertForSequenceClassification model).\n",
      "All the layers of TFBertModel were initialized from the model checkpoint at bert-base-uncased.\n",
      "If your task is similar to the task the model of the checkpoint was trained on, you can already use TFBertModel for predictions without further training.\n"
     ]
    },
    {
     "name": "stdout",
     "output_type": "stream",
     "text": [
      "Strategy: <tensorflow.python.distribute.mirrored_strategy.MirroredStrategy object at 0x7f730531b310>\n",
      "Model: \"model_6\"\n",
      "__________________________________________________________________________________________________\n",
      " Layer (type)                   Output Shape         Param #     Connected to                     \n",
      "==================================================================================================\n",
      " input_ids (InputLayer)         [(None, 512)]        0           []                               \n",
      "                                                                                                  \n",
      " attention_masks (InputLayer)   [(None, 512)]        0           []                               \n",
      "                                                                                                  \n",
      " token_type_ids (InputLayer)    [(None, 512)]        0           []                               \n",
      "                                                                                                  \n",
      " bert (TFBertMainLayer)         TFBaseModelOutputWi  109482240   ['input_ids[0][0]',              \n",
      "                                thPoolingAndCrossAt               'attention_masks[0][0]',        \n",
      "                                tentions(last_hidde               'token_type_ids[0][0]']         \n",
      "                                n_state=(None, 512,                                               \n",
      "                                 768),                                                            \n",
      "                                 pooler_output=(Non                                               \n",
      "                                e, 768),                                                          \n",
      "                                 past_key_values=No                                               \n",
      "                                ne, hidden_states=N                                               \n",
      "                                one, attentions=Non                                               \n",
      "                                e, cross_attentions                                               \n",
      "                                =None)                                                            \n",
      "                                                                                                  \n",
      " bidirectional_6 (Bidirectional  (None, 512, 256)    918528      ['bert[0][0]']                   \n",
      " )                                                                                                \n",
      "                                                                                                  \n",
      " global_average_pooling1d_6 (Gl  (None, 256)         0           ['bidirectional_6[0][0]']        \n",
      " obalAveragePooling1D)                                                                            \n",
      "                                                                                                  \n",
      " global_max_pooling1d_6 (Global  (None, 256)         0           ['bidirectional_6[0][0]']        \n",
      " MaxPooling1D)                                                                                    \n",
      "                                                                                                  \n",
      " concatenate_6 (Concatenate)    (None, 512)          0           ['global_average_pooling1d_6[0][0\n",
      "                                                                 ]',                              \n",
      "                                                                  'global_max_pooling1d_6[0][0]'] \n",
      "                                                                                                  \n",
      " dropout_266 (Dropout)          (None, 512)          0           ['concatenate_6[0][0]']          \n",
      "                                                                                                  \n",
      " dense_18 (Dense)               (None, 512)          262656      ['dropout_266[0][0]']            \n",
      "                                                                                                  \n",
      " dense_19 (Dense)               (None, 512)          262656      ['dense_18[0][0]']               \n",
      "                                                                                                  \n",
      " dense_20 (Dense)               (None, 6)            3078        ['dense_19[0][0]']               \n",
      "                                                                                                  \n",
      "==================================================================================================\n",
      "Total params: 110,929,158\n",
      "Trainable params: 1,446,918\n",
      "Non-trainable params: 109,482,240\n",
      "__________________________________________________________________________________________________\n"
     ]
    }
   ],
   "source": [
    "# Create the model under a distribution strategy scope.\n",
    "strategy = tf.distribute.MirroredStrategy()\n",
    "\n",
    "with strategy.scope():\n",
    "    # Encoded token ids from BERT tokenizer.\n",
    "    input_ids = tf.keras.layers.Input(\n",
    "        shape=(max_length,), dtype=tf.int32, name=\"input_ids\"\n",
    "    )\n",
    "    # Attention masks indicates to the model which tokens should be attended to.\n",
    "    attention_masks = tf.keras.layers.Input(\n",
    "        shape=(max_length,), dtype=tf.int32, name=\"attention_masks\"\n",
    "    )\n",
    "    # Token type ids are binary masks identifying different sequences in the model.\n",
    "    token_type_ids = tf.keras.layers.Input(\n",
    "        shape=(max_length,), dtype=tf.int32, name=\"token_type_ids\"\n",
    "    )\n",
    "    # Loading pretrained BERT model.\n",
    "    bert_model = transformers.TFBertModel.from_pretrained(\"bert-base-uncased\",\n",
    "        attention_probs_dropout_prob=0,\n",
    "        hidden_dropout_prob=0)\n",
    "    # Freeze the BERT model to reuse the pretrained features without modifying them.\n",
    "    bert_model.trainable = False\n",
    "\n",
    "    bert_output = bert_model.bert(\n",
    "        input_ids, attention_mask=attention_masks, token_type_ids=token_type_ids\n",
    "    )\n",
    "    sequence_output = bert_output.last_hidden_state\n",
    "    pooled_output = bert_output.pooler_output\n",
    "    # Add trainable layers on top of frozen layers to adapt the pretrained features on the new data.\n",
    "    bi_lstm = tf.keras.layers.Bidirectional(\n",
    "        tf.keras.layers.LSTM(128, return_sequences=True)\n",
    "    )(sequence_output)\n",
    "    # Applying hybrid pooling approach to bi_lstm sequence output.\n",
    "    avg_pool = tf.keras.layers.GlobalAveragePooling1D()(bi_lstm)\n",
    "    max_pool = tf.keras.layers.GlobalMaxPooling1D()(bi_lstm)\n",
    "    concat = tf.keras.layers.concatenate([avg_pool, max_pool])\n",
    "    dropout = tf.keras.layers.Dropout(0.2)(concat)\n",
    "    x = tf.keras.layers.Dense(256*2, activation=\"relu\")(dropout)\n",
    "    #dropout = tf.keras.layers.Dropout(0.2)(x)\n",
    "    x = tf.keras.layers.Dense(256*2, activation=\"relu\")(x)\n",
    "  #  dropout = tf.keras.layers.Dropout(0.2)(x)\n",
    "  #  x = tf.keras.layers.Dense(256, activation=\"relu\")(dropout)\n",
    "    output = tf.keras.layers.Dense(6,activation=\"sigmoid\")(x)\n",
    "    model = tf.keras.models.Model(\n",
    "        inputs=[input_ids, attention_masks, token_type_ids], outputs=output\n",
    "    )\n",
    "    model.compile(optimizer=tf.optimizers.Adam(learning_rate=1e-5),\n",
    "                 loss='huber_loss',\n",
    "                 metrics=[tf.keras.metrics.RootMeanSquaredError()],\n",
    "                 )\n",
    "\n",
    "print(f\"Strategy: {strategy}\")\n",
    "model.summary()"
   ]
  },
  {
   "cell_type": "markdown",
   "metadata": {
    "id": "3R-PoTZUZzMF"
   },
   "source": [
    "Entrainement du modèle avec 20 epochs:"
   ]
  },
  {
   "cell_type": "code",
   "execution_count": 27,
   "metadata": {
    "colab": {
     "base_uri": "https://localhost:8080/"
    },
    "id": "EyiSJqzMH32r",
    "outputId": "f7008854-fe73-4aa8-fcbc-aa8870110140"
   },
   "outputs": [
    {
     "name": "stdout",
     "output_type": "stream",
     "text": [
      "CPU times: user 5 µs, sys: 0 ns, total: 5 µs\n",
      "Wall time: 10.7 µs\n",
      "Epoch 1/21\n",
      "195/195 [==============================] - ETA: 0s - loss: 0.0090 - root_mean_squared_error: 0.1339"
     ]
    },
    {
     "name": "stderr",
     "output_type": "stream",
     "text": [
      "Truncation was not explicitly activated but `max_length` is provided a specific value, please use `truncation=True` to explicitly truncate examples to max length. Defaulting to 'longest_first' truncation strategy. If you encode pairs of sequences (GLUE-style) with the tokenizer you can select this strategy more precisely by providing a specific strategy to `truncation`.\n"
     ]
    },
    {
     "name": "stdout",
     "output_type": "stream",
     "text": [
      "\b\b\b\b\b\b\b\b\b\b\b\b\b\b\b\b\b\b\b\b\b\b\b\b\b\b\b\b\b\b\b\b\b\b\b\b\b\b\b\b\b\b\b\b\b\b\b\b\b\b\b\b\b\b\b\b\b\b\b\b\b\b\b\b\b\b\b\b\b\b\b\b\b\b\b\b\b\b\b\b\b\b\b\b\b\b\b\b\b\b\b\b\b\b\b\b\b\b\b\r",
      "195/195 [==============================] - 186s 872ms/step - loss: 0.0090 - root_mean_squared_error: 0.1339 - val_loss: 0.0071 - val_root_mean_squared_error: 0.1193\n",
      "Epoch 2/21\n",
      "195/195 [==============================] - 165s 847ms/step - loss: 0.0067 - root_mean_squared_error: 0.1159 - val_loss: 0.0055 - val_root_mean_squared_error: 0.1048\n",
      "Epoch 3/21\n",
      "195/195 [==============================] - 165s 845ms/step - loss: 0.0056 - root_mean_squared_error: 0.1055 - val_loss: 0.0050 - val_root_mean_squared_error: 0.0999\n",
      "Epoch 4/21\n",
      "195/195 [==============================] - 165s 846ms/step - loss: 0.0053 - root_mean_squared_error: 0.1026 - val_loss: 0.0049 - val_root_mean_squared_error: 0.0990\n",
      "Epoch 5/21\n",
      "195/195 [==============================] - 165s 846ms/step - loss: 0.0051 - root_mean_squared_error: 0.1012 - val_loss: 0.0049 - val_root_mean_squared_error: 0.0986\n",
      "Epoch 6/21\n",
      "195/195 [==============================] - 165s 845ms/step - loss: 0.0051 - root_mean_squared_error: 0.1006 - val_loss: 0.0048 - val_root_mean_squared_error: 0.0982\n",
      "Epoch 7/21\n",
      "195/195 [==============================] - 165s 846ms/step - loss: 0.0050 - root_mean_squared_error: 0.0998 - val_loss: 0.0048 - val_root_mean_squared_error: 0.0977\n",
      "Epoch 8/21\n",
      "195/195 [==============================] - 165s 845ms/step - loss: 0.0049 - root_mean_squared_error: 0.0992 - val_loss: 0.0048 - val_root_mean_squared_error: 0.0977\n",
      "Epoch 9/21\n",
      "195/195 [==============================] - 165s 845ms/step - loss: 0.0048 - root_mean_squared_error: 0.0982 - val_loss: 0.0047 - val_root_mean_squared_error: 0.0970\n",
      "Epoch 10/21\n",
      "195/195 [==============================] - 165s 846ms/step - loss: 0.0048 - root_mean_squared_error: 0.0978 - val_loss: 0.0047 - val_root_mean_squared_error: 0.0968\n",
      "Epoch 11/21\n",
      "195/195 [==============================] - 165s 845ms/step - loss: 0.0047 - root_mean_squared_error: 0.0974 - val_loss: 0.0047 - val_root_mean_squared_error: 0.0968\n",
      "Epoch 12/21\n",
      "195/195 [==============================] - 165s 845ms/step - loss: 0.0047 - root_mean_squared_error: 0.0971 - val_loss: 0.0047 - val_root_mean_squared_error: 0.0966\n",
      "Epoch 13/21\n",
      "195/195 [==============================] - 165s 846ms/step - loss: 0.0047 - root_mean_squared_error: 0.0966 - val_loss: 0.0047 - val_root_mean_squared_error: 0.0972\n",
      "Epoch 14/21\n",
      "195/195 [==============================] - 165s 845ms/step - loss: 0.0046 - root_mean_squared_error: 0.0958 - val_loss: 0.0047 - val_root_mean_squared_error: 0.0965\n",
      "Epoch 15/21\n",
      "195/195 [==============================] - 165s 846ms/step - loss: 0.0046 - root_mean_squared_error: 0.0958 - val_loss: 0.0046 - val_root_mean_squared_error: 0.0962\n",
      "Epoch 16/21\n",
      "195/195 [==============================] - 165s 846ms/step - loss: 0.0045 - root_mean_squared_error: 0.0954 - val_loss: 0.0046 - val_root_mean_squared_error: 0.0960\n",
      "Epoch 17/21\n",
      "195/195 [==============================] - 165s 846ms/step - loss: 0.0045 - root_mean_squared_error: 0.0950 - val_loss: 0.0046 - val_root_mean_squared_error: 0.0959\n",
      "Epoch 18/21\n",
      "195/195 [==============================] - 166s 850ms/step - loss: 0.0045 - root_mean_squared_error: 0.0947 - val_loss: 0.0046 - val_root_mean_squared_error: 0.0957\n",
      "Epoch 19/21\n",
      "195/195 [==============================] - 167s 854ms/step - loss: 0.0045 - root_mean_squared_error: 0.0944 - val_loss: 0.0046 - val_root_mean_squared_error: 0.0956\n",
      "Epoch 20/21\n",
      "195/195 [==============================] - 166s 853ms/step - loss: 0.0044 - root_mean_squared_error: 0.0941 - val_loss: 0.0045 - val_root_mean_squared_error: 0.0954\n",
      "Epoch 21/21\n",
      "195/195 [==============================] - 166s 850ms/step - loss: 0.0044 - root_mean_squared_error: 0.0940 - val_loss: 0.0046 - val_root_mean_squared_error: 0.0956\n"
     ]
    }
   ],
   "source": [
    "%time\n",
    "epochs = 21\n",
    "history = model.fit(\n",
    "    train_data,\n",
    "    validation_data=valid_data,\n",
    "    epochs=epochs,\n",
    "    use_multiprocessing=True,\n",
    "    workers=-1,\n",
    ")"
   ]
  },
  {
   "cell_type": "markdown",
   "metadata": {
    "id": "GNp_GhZ9CiV3"
   },
   "source": [
    "Afin de visualiser les courbes des métriques sur les données train et validation, nous multiplions les valeurs obtenues par 5, puisque nous avons normalisé les variables  de compétences par 5."
   ]
  },
  {
   "cell_type": "code",
   "execution_count": 28,
   "metadata": {
    "colab": {
     "base_uri": "https://localhost:8080/",
     "height": 350
    },
    "id": "a0z-TG9C5jkt",
    "outputId": "e1ff9749-80ac-481f-b2c4-de8d8a8351ba"
   },
   "outputs": [
    {
     "data": {
      "image/png": "[encoded data removed]",
      "text/plain": [
       "<Figure size 1080x360 with 2 Axes>"
      ]
     },
     "metadata": {
      "needs_background": "light"
     },
     "output_type": "display_data"
    }
   ],
   "source": [
    "import matplotlib.pyplot as plt\n",
    "fig, ax = plt.subplots(1, 2, figsize=(15, 5))\n",
    "# summarize history for accuracy\n",
    "ax[0].plot(np.array(history.history['root_mean_squared_error'])*5)\n",
    "ax[0].plot(np.array(history.history['val_root_mean_squared_error'])*5)\n",
    "ax[0].set_title('Model accuracy')\n",
    "ax[0].set_xlabel('Epoch')\n",
    "ax[0].set_ylabel('root_mean_squared_error')\n",
    "ax[0].legend(['train_set','val_set'])\n",
    "\n",
    "# summarize history for loss\n",
    "ax[1].plot(np.array(history.history['loss'])*5)\n",
    "ax[1].plot(np.array(history.history['val_loss'])*5)\n",
    "ax[1].set_title('Model loss')\n",
    "ax[1].set_xlabel('Epoch')\n",
    "ax[1].set_ylabel('Loss')\n",
    "ax[1].legend(['train_set','val_set'])\n",
    "\n",
    "plt.show()"
   ]
  },
  {
   "cell_type": "markdown",
   "metadata": {
    "id": "Jn_9oF08BH9Y"
   },
   "source": [
    "Le modèle pré-entrainé converge avec un score sur les données de validation d'ordre 0.47. Nous constatons que ce modèle pré-entrainé améliore significativement les scores des prédictions, en comparaison avec le modèle baseline de SVM regressor.\n",
    "\n",
    "Nous pouvons maintenant effectuer une prédiction syr les textes de df_test. "
   ]
  },
  {
   "cell_type": "code",
   "execution_count": 59,
   "metadata": {
    "colab": {
     "base_uri": "https://localhost:8080/"
    },
    "id": "p74M1V698oEs",
    "outputId": "bf96a5a0-484d-4ad7-8ca8-ed67b9509772"
   },
   "outputs": [
    {
     "name": "stdout",
     "output_type": "stream",
     "text": [
      "1/1 [==============================] - 0s 211ms/step\n",
      "1/1 [==============================] - 0s 290ms/step\n",
      "1/1 [==============================] - 0s 404ms/step\n"
     ]
    }
   ],
   "source": [
    "tokenizer = transformers.BertTokenizer.from_pretrained(\"bert-base-uncased\")\n",
    "test = np.array(df_test[\"full_text\"])\n",
    "predictions = []\n",
    "for x in test:\n",
    "    token = tokenizer(x, padding=\"max_length\", truncation=True, max_length=max_length, return_tensors=\"np\")\n",
    "    ids = token['input_ids']\n",
    "    mask = token[\"attention_mask\"]\n",
    "    type_ids = token['token_type_ids']\n",
    "    prediction = model.predict({\"input_ids\": ids,\"attention_masks\": mask, \"token_type_ids\":type_ids})\n",
    "    predictions.append(prediction[0])"
   ]
  },
  {
   "cell_type": "code",
   "execution_count": 60,
   "metadata": {
    "colab": {
     "base_uri": "https://localhost:8080/",
     "height": 143
    },
    "id": "0ky2OhnSASIi",
    "outputId": "a374d39e-351d-4bbd-bf35-9df53d41b8b3"
   },
   "outputs": [
    {
     "data": {
      "text/html": [
       "\n",
       "  <div id=\"df-3ca4279e-edff-442d-b02e-387595e8fd05\">\n",
       "    <div class=\"colab-df-container\">\n",
       "      <div>\n",
       "<style scoped>\n",
       "    .dataframe tbody tr th:only-of-type {\n",
       "        vertical-align: middle;\n",
       "    }\n",
       "\n",
       "    .dataframe tbody tr th {\n",
       "        vertical-align: top;\n",
       "    }\n",
       "\n",
       "    .dataframe thead th {\n",
       "        text-align: right;\n",
       "    }\n",
       "</style>\n",
       "<table border=\"1\" class=\"dataframe\">\n",
       "  <thead>\n",
       "    <tr style=\"text-align: right;\">\n",
       "      <th></th>\n",
       "      <th>text_id</th>\n",
       "      <th>cohesion</th>\n",
       "      <th>syntax</th>\n",
       "      <th>vocabulary</th>\n",
       "      <th>phraseology</th>\n",
       "      <th>grammar</th>\n",
       "      <th>conventions</th>\n",
       "    </tr>\n",
       "  </thead>\n",
       "  <tbody>\n",
       "    <tr>\n",
       "      <th>0</th>\n",
       "      <td>0000C359D63E</td>\n",
       "      <td>2.920458</td>\n",
       "      <td>2.788875</td>\n",
       "      <td>3.050251</td>\n",
       "      <td>2.775156</td>\n",
       "      <td>2.665359</td>\n",
       "      <td>2.615009</td>\n",
       "    </tr>\n",
       "    <tr>\n",
       "      <th>1</th>\n",
       "      <td>000BAD50D026</td>\n",
       "      <td>2.958915</td>\n",
       "      <td>2.662622</td>\n",
       "      <td>2.901422</td>\n",
       "      <td>2.632174</td>\n",
       "      <td>2.451072</td>\n",
       "      <td>2.769485</td>\n",
       "    </tr>\n",
       "    <tr>\n",
       "      <th>2</th>\n",
       "      <td>00367BB2546B</td>\n",
       "      <td>3.692701</td>\n",
       "      <td>3.548685</td>\n",
       "      <td>3.664722</td>\n",
       "      <td>3.725807</td>\n",
       "      <td>3.507187</td>\n",
       "      <td>3.661301</td>\n",
       "    </tr>\n",
       "  </tbody>\n",
       "</table>\n",
       "</div>\n",
       "      <button class=\"colab-df-convert\" onclick=\"convertToInteractive('df-3ca4279e-edff-442d-b02e-387595e8fd05')\"\n",
       "              title=\"Convert this dataframe to an interactive table.\"\n",
       "              style=\"display:none;\">\n",
       "        \n",
       "  <svg xmlns=\"http://www.w3.org/2000/svg\" height=\"24px\"viewBox=\"0 0 24 24\"\n",
       "       width=\"24px\">\n",
       "    <path d=\"M0 0h24v24H0V0z\" fill=\"none\"/>\n",
       "    <path d=\"M18.56 5.44l.94 2.06.94-2.06 2.06-.94-2.06-.94-.94-2.06-.94 2.06-2.06.94zm-11 1L8.5 8.5l.94-2.06 2.06-.94-2.06-.94L8.5 2.5l-.94 2.06-2.06.94zm10 10l.94 2.06.94-2.06 2.06-.94-2.06-.94-.94-2.06-.94 2.06-2.06.94z\"/><path d=\"M17.41 7.96l-1.37-1.37c-.4-.4-.92-.59-1.43-.59-.52 0-1.04.2-1.43.59L10.3 9.45l-7.72 7.72c-.78.78-.78 2.05 0 2.83L4 21.41c.39.39.9.59 1.41.59.51 0 1.02-.2 1.41-.59l7.78-7.78 2.81-2.81c.8-.78.8-2.07 0-2.86zM5.41 20L4 18.59l7.72-7.72 1.47 1.35L5.41 20z\"/>\n",
       "  </svg>\n",
       "      </button>\n",
       "      \n",
       "  <style>\n",
       "    .colab-df-container {\n",
       "      display:flex;\n",
       "      flex-wrap:wrap;\n",
       "      gap: 12px;\n",
       "    }\n",
       "\n",
       "    .colab-df-convert {\n",
       "      background-color: #E8F0FE;\n",
       "      border: none;\n",
       "      border-radius: 50%;\n",
       "      cursor: pointer;\n",
       "      display: none;\n",
       "      fill: #1967D2;\n",
       "      height: 32px;\n",
       "      padding: 0 0 0 0;\n",
       "      width: 32px;\n",
       "    }\n",
       "\n",
       "    .colab-df-convert:hover {\n",
       "      background-color: #E2EBFA;\n",
       "      box-shadow: 0px 1px 2px rgba(60, 64, 67, 0.3), 0px 1px 3px 1px rgba(60, 64, 67, 0.15);\n",
       "      fill: #174EA6;\n",
       "    }\n",
       "\n",
       "    [theme=dark] .colab-df-convert {\n",
       "      background-color: #3B4455;\n",
       "      fill: #D2E3FC;\n",
       "    }\n",
       "\n",
       "    [theme=dark] .colab-df-convert:hover {\n",
       "      background-color: #434B5C;\n",
       "      box-shadow: 0px 1px 3px 1px rgba(0, 0, 0, 0.15);\n",
       "      filter: drop-shadow(0px 1px 2px rgba(0, 0, 0, 0.3));\n",
       "      fill: #FFFFFF;\n",
       "    }\n",
       "  </style>\n",
       "\n",
       "      <script>\n",
       "        const buttonEl =\n",
       "          document.querySelector('#df-3ca4279e-edff-442d-b02e-387595e8fd05 button.colab-df-convert');\n",
       "        buttonEl.style.display =\n",
       "          google.colab.kernel.accessAllowed ? 'block' : 'none';\n",
       "\n",
       "        async function convertToInteractive(key) {\n",
       "          const element = document.querySelector('#df-3ca4279e-edff-442d-b02e-387595e8fd05');\n",
       "          const dataTable =\n",
       "            await google.colab.kernel.invokeFunction('convertToInteractive',\n",
       "                                                     [key], {});\n",
       "          if (!dataTable) return;\n",
       "\n",
       "          const docLinkHtml = 'Like what you see? Visit the ' +\n",
       "            '<a target=\"_blank\" href=https://colab.research.google.com/notebooks/data_table.ipynb>data table notebook</a>'\n",
       "            + ' to learn more about interactive tables.';\n",
       "          element.innerHTML = '';\n",
       "          dataTable['output_type'] = 'display_data';\n",
       "          await google.colab.output.renderOutput(dataTable, element);\n",
       "          const docLink = document.createElement('div');\n",
       "          docLink.innerHTML = docLinkHtml;\n",
       "          element.appendChild(docLink);\n",
       "        }\n",
       "      </script>\n",
       "    </div>\n",
       "  </div>\n",
       "  "
      ],
      "text/plain": [
       "        text_id  cohesion    syntax  vocabulary  phraseology   grammar  \\\n",
       "0  0000C359D63E  2.920458  2.788875    3.050251     2.775156  2.665359   \n",
       "1  000BAD50D026  2.958915  2.662622    2.901422     2.632174  2.451072   \n",
       "2  00367BB2546B  3.692701  3.548685    3.664722     3.725807  3.507187   \n",
       "\n",
       "   conventions  \n",
       "0     2.615009  \n",
       "1     2.769485  \n",
       "2     3.661301  "
      ]
     },
     "execution_count": 60,
     "metadata": {},
     "output_type": "execute_result"
    }
   ],
   "source": [
    "dt_soum = pd.DataFrame()\n",
    "dt_soum[\"text_id\"] = df_test[\"text_id\"]\n",
    "dt_soum[col_target] = 5*np.array(predictions)\n",
    "dt_soum"
   ]
  },
  {
   "cell_type": "markdown",
   "metadata": {},
   "source": [
    "#### Documentation:\n",
    "\n",
    "https://keras.io/examples/nlp/semantic_similarity_with_bert/\n",
    "\n",
    "https://www.kaggle.com/code/electro/debertav3-weightedlayermeanpool-kfold-tensorflow"
   ]
  }
 ],
 "metadata": {
  "accelerator": "GPU",
  "colab": {
   "collapsed_sections": [],
   "provenance": []
  },
  "gpuClass": "standard",
  "kernelspec": {
   "display_name": "Python 3 (ipykernel)",
   "language": "python",
   "name": "python3"
  },
  "language_info": {
   "codemirror_mode": {
    "name": "ipython",
    "version": 3
   },
   "file_extension": ".py",
   "mimetype": "text/x-python",
   "name": "python",
   "nbconvert_exporter": "python",
   "pygments_lexer": "ipython3",
   "version": "3.9.12"
  }
 },
 "nbformat": 4,
 "nbformat_minor": 1
}
